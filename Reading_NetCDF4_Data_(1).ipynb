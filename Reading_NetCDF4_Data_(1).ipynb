{
  "cells": [
    {
      "cell_type": "markdown",
      "metadata": {
        "id": "view-in-github",
        "colab_type": "text"
      },
      "source": [
        "<a href=\"https://colab.research.google.com/github/sreemathymahes/NetCDF/blob/main/Reading_NetCDF4_Data_(1).ipynb\" target=\"_parent\"><img src=\"https://colab.research.google.com/assets/colab-badge.svg\" alt=\"Open In Colab\"/></a>"
      ]
    },
    {
      "cell_type": "markdown",
      "metadata": {
        "id": "32XTSoS20iRI"
      },
      "source": [
        "<img src=\"images/000_000_epom_logo.png\" alt=\"ePOM\" title=\"\" align=\"center\" width=\"12%\" alt=\"Python logo\\\"></a>"
      ]
    },
    {
      "cell_type": "markdown",
      "metadata": {
        "id": "RkI6t8Qr0iRN"
      },
      "source": [
        "# Introduction\n",
        "\n",
        "In oceanography, multidimensional data structures like climate, salinity, and temperature data are frequently used. Such data is difficult to store in text files since doing so would use a significant amount of memory and take a long time to read, write, and process. NetCDF4 is one of the best tools for handling such data. The information is kept in HDF5 format (Hierarchical Data Format). The HDF5 is made to accommodate a lot of data. The University Corporation for Atmospheric Research's Unidata Program is the home of the project known as NetCDF (UCAR).\n",
        "\n",
        "In this chapter is going to give a brief on\n",
        "   * Reading NetCDF data\n",
        "   * Accessing the Dataset via OPeNDAP\n",
        "   * Reading and analyzing NetCDF data with the help of Xarray\n",
        "   \n",
        "   \n",
        "   \n",
        "   \n",
        "    "
      ]
    },
    {
      "cell_type": "markdown",
      "metadata": {
        "id": "ZsR4MNHB0iRP"
      },
      "source": [
        "\n",
        "\n",
        "<img align=\"left\" width=\"6%\" style=\"padding-right:10px;\" src=\"images/key.png\">\n",
        "\n",
        "[NetCDF](https://www.unidata.ucar.edu/software/netcdf/) (Network Common Data Form) is a set of software libraries and machine-independent data formats that support the creation, access, and sharing of array-oriented scientific data.\n",
        "\n"
      ]
    },
    {
      "cell_type": "markdown",
      "metadata": {
        "id": "VXY0P4gD0iRP"
      },
      "source": [
        ""
      ]
    },
    {
      "cell_type": "markdown",
      "metadata": {
        "id": "px_pITv70iRQ"
      },
      "source": [
        "# Reading NetCDF data"
      ]
    },
    {
      "cell_type": "markdown",
      "metadata": {
        "id": "6bdDMNS10iRQ"
      },
      "source": [
        "The netCDF data has the extension of .nc."
      ]
    },
    {
      "cell_type": "markdown",
      "metadata": {
        "solution2": "hidden",
        "solution2_first": true,
        "id": "f_MfH3Em0iRR"
      },
      "source": [
        "<img align=\"left\" width=\"6%\" style=\"padding-right:10px;\" src=\"images/test.png\">\n",
        "\n",
        "Importing NetCDF and Numpy ( a Python library that supports large multi-dimensional arrays or matrices):"
      ]
    },
    {
      "cell_type": "code",
      "execution_count": null,
      "metadata": {
        "solution2": "hidden",
        "id": "aWbJrgnw0iRR"
      },
      "outputs": [],
      "source": [
        "import netCDF4\n",
        "import numpy as np"
      ]
    },
    {
      "cell_type": "markdown",
      "metadata": {
        "id": "Af34l4C90iRT"
      },
      "source": [
        "The below code is opening the Netcdf file which has the SST of the global Ocean .\n",
        "\n",
        "When we print the object \"SST\", we get information regarding the time, resolution, sensor information etc. These are called **metadata**.\n",
        "\n"
      ]
    },
    {
      "cell_type": "code",
      "execution_count": null,
      "metadata": {
        "id": "bTUb5vyN0iRU",
        "outputId": "533effc1-ead6-4a1f-fe40-4734f7046ff6"
      },
      "outputs": [
        {
          "name": "stdout",
          "output_type": "stream",
          "text": [
            "<class 'netCDF4._netCDF4.Dataset'>\n",
            "root group (NETCDF4 data model, file format HDF5):\n",
            "    Conventions: CF-1.6,ACDD-1.3\n",
            "    title: Analysed foundation sea surface temperature over the global ocean\n",
            "    summary: A merged, multi-sensor L4 foundation SST product from Remote Sensing Systems\n",
            "    references: http://www.remss.com/measurements/sea-surface-temperature/oisst-description\n",
            "    institution: REMSS\n",
            "    history: 2022-10-20 23:38:45+0000 created by fuse_sensor_data.py v0.5\n",
            "    comment: This research was supported by the NASA Physical Oceanography Program\n",
            "    license: GHRSST protocol describes data use as free and open\n",
            "    id: REMSS-L4-MW_IR\n",
            "    naming_authority: org.ghrsst\n",
            "    product_version: v05.0\n",
            "    uuid: fdfd181d-1301-4bb9-b3ad-bb49dfadf09b\n",
            "    gds_version_id: 2.0\n",
            "    netcdf_version_id: 4.8.1\n",
            "    date_created: 20221020T233845Z\n",
            "    file_quality_level: 3\n",
            "    spatial_resolution: 9 km\n",
            "    start_time: 20220814T000000Z\n",
            "    time_coverage_start: 20220814T000000Z\n",
            "    stop_time: 20220814T235959Z\n",
            "    time_coverage_end: 20220814T235959Z\n",
            "    northernmost_latitude: 90.0\n",
            "    southernmost_latitude: -90.0\n",
            "    easternmost_longitude: 180.0\n",
            "    westernmost_longitude: -180.0\n",
            "    source: OBPG-L3C-MODIS_Aqua,OBPG-L3C-MODIS_Terra,REMSS-L3C-AMSR2,REMSS-L3C-GMI,REMSS-L4-MW_IR,STAR-L3C-VIIRS_NPP\n",
            "    platform: Aqua,GCOM-W1,GPM,NPP,Terra\n",
            "    sensor: AMSR-2,GMI,MODIS,VIIRS\n",
            "    Metadata_Conventions: Unidata Dataset Discovery 1.0\n",
            "    metadata_link: https://podaac.jpl.nasa.gov/ws/metadata/dataset/?shortName=MW_IR_OI-REMSS-L4-GLOB-v5.0&format=iso\n",
            "    keywords: Oceans > Ocean Temperature > Sea Surface Temperature\n",
            "    keywords_vocabulary: NASA Global Change Master Directory (GCMD) Science Keywords\n",
            "    standard_name_vocabulary: NetCDF Climate and Forecast (CF) Metadata Convention\n",
            "    geospatial_lat_units: degrees_north\n",
            "    geospatial_lat_resolution: 0.08789057\n",
            "    geospatial_lon_units: degrees_east\n",
            "    geospatial_lon_resolution: 0.087890595\n",
            "    acknowledgment: http://www.remss.com/measurements/sea-surface-temperature/oisst-description\n",
            "    creator_name: Remote Sensing Systems\n",
            "    creator_email: support@remss.com\n",
            "    creator_url: http://www.remss.com\n",
            "    project: Group for High Resolution Sea Surface Temperature\n",
            "    publisher_name: The GHRSST Project Office\n",
            "    publisher_email: ghrsst-po@nceo.ac.uk\n",
            "    publisher_url: http://www.ghrsst.org\n",
            "    processing_level: L4\n",
            "    cdm_data_type: grid\n",
            "    dimensions(sizes): lat(2048), lon(4096), time(1)\n",
            "    variables(dimensions): float32 lat(lat), float32 lon(lon), int32 time(time), int16 analysed_sst(time, lat, lon), int16 analysis_error(time, lat, lon), int8 sea_ice_fraction(time, lat, lon), int8 mask(time, lat, lon)\n",
            "    groups: \n"
          ]
        }
      ],
      "source": [
        "SST = netCDF4.Dataset('20220814120000-REMSS-L4_GHRSST-SSTfnd-MW_IR_OI-GLOB-v02.0-fv05.0.nc')\n",
        "print(SST)"
      ]
    },
    {
      "cell_type": "markdown",
      "metadata": {
        "id": "tI-hsk5b0iRV"
      },
      "source": [
        "**Note:** We can view the data set's size and variable information in the above object file print output. This dataset has 3 dimensions: lat(with size 2048), lon (size: 4096), time (size: 1).  TThe variables are outputted with their data type such as int16 analysed_sst."
      ]
    },
    {
      "cell_type": "markdown",
      "metadata": {
        "id": "0LOA4acK0iRW"
      },
      "source": [
        "---"
      ]
    },
    {
      "cell_type": "markdown",
      "metadata": {
        "id": "Y2JJ-pES0iRW"
      },
      "source": [
        "We can access the metadata from SST just like we read a dictionary in Python."
      ]
    },
    {
      "cell_type": "code",
      "execution_count": null,
      "metadata": {
        "id": "kkFDthxh0iRW",
        "outputId": "a327ee11-79cd-49d9-c1fa-1d9f3d43e9c0"
      },
      "outputs": [
        {
          "name": "stdout",
          "output_type": "stream",
          "text": [
            "dict_keys(['lat', 'lon', 'time', 'analysed_sst', 'analysis_error', 'sea_ice_fraction', 'mask'])\n"
          ]
        }
      ],
      "source": [
        "print(SST.variables.keys()) # get all variable names\n"
      ]
    },
    {
      "cell_type": "markdown",
      "metadata": {
        "id": "kGAHMGra0iRX"
      },
      "source": [
        "***"
      ]
    },
    {
      "cell_type": "markdown",
      "metadata": {
        "id": "g9aTAbyv0iRX"
      },
      "source": [
        "<img align=\"left\" width=\"6%\" style=\"padding-right:10px;\" src=\"images/test.png\">\n",
        "\n",
        "Using the below code access the individual keys like **lat**, **long** and **analysed_sst** and show the dimensions, shape and data stored in the variables."
      ]
    },
    {
      "cell_type": "code",
      "execution_count": null,
      "metadata": {
        "id": "dBqcOl8g0iRX",
        "outputId": "926b5725-a8b9-432a-b565-b7c4ef40ba25"
      },
      "outputs": [
        {
          "name": "stdout",
          "output_type": "stream",
          "text": [
            "Latitude variable information \n",
            "\n",
            "Latitude Dimension: lat\n",
            "Latitude Shape: 2048\n",
            "Latitude Data: [-89.956   -89.86811 -89.78022 ...  89.78022  89.86811  89.956  ] \n",
            "\n",
            "Longitude variable information \n",
            "\n",
            "Longitude Dimension: lon\n",
            "Longitude Shape: 4096\n",
            "Longitude Data: [-179.956   -179.8681  -179.78021 ...  179.78021  179.8681   179.956  ] \n",
            "\n",
            "SST variable information \n",
            "\n",
            "SST Dimension: ('time', 'lat', 'lon')\n",
            "SST Shape: (1, 2048, 4096)\n",
            "SST Data: [[[-- -- -- ... -- -- --]\n",
            "  [-- -- -- ... -- -- --]\n",
            "  [-- -- -- ... -- -- --]\n",
            "  ...\n",
            "  [271.34999999999997 271.34999999999997 271.34999999999997 ...\n",
            "   271.34999999999997 271.34999999999997 271.34999999999997]\n",
            "  [271.34999999999997 271.34999999999997 271.34999999999997 ...\n",
            "   271.34999999999997 271.34999999999997 271.34999999999997]\n",
            "  [271.34999999999997 271.34999999999997 271.34999999999997 ...\n",
            "   271.34999999999997 271.34999999999997 271.34999999999997]]]\n"
          ]
        }
      ],
      "source": [
        "lat= SST.variables['lat']\n",
        "lon=SST.variables['lon']\n",
        "temp = SST.variables['analysed_sst'] # SST\n",
        "\n",
        "\n",
        "print(\"Latitude variable information \\n\")\n",
        "print(\"Latitude Dimension: %s\" % lat.dimensions) # read the dimension of the variable\n",
        "print(\"Latitude Shape: %s\" % lat.shape) #read the shape of the variable\n",
        "print(\"Latitude Data: %s \\n\" % lat[:]) #read the data of the variable\n",
        "\n",
        "\n",
        "print(\"Longitude variable information \\n\")\n",
        "print(\"Longitude Dimension: %s\" % lon.dimensions)\n",
        "print(\"Longitude Shape: %s\" % lon.shape)\n",
        "print(\"Longitude Data: %s \\n\" % lon[:])\n",
        "\n",
        "print(\"SST variable information \\n\")\n",
        "\n",
        "print(\"SST Dimension: \" + str( temp.dimensions)) # multi-dimension data are stored as tuples\n",
        "print(\"SST Shape: \"+ str(temp.shape))\n",
        "print(\"SST Data: %s\" % temp[:])\n"
      ]
    },
    {
      "cell_type": "code",
      "execution_count": null,
      "metadata": {
        "id": "oOnXKVWe0iRY"
      },
      "outputs": [],
      "source": []
    },
    {
      "cell_type": "markdown",
      "metadata": {
        "id": "zGp4Qag40iRY"
      },
      "source": [
        "<img align=\"left\" width=\"6%\" style=\"padding-right:10px;\" src=\"images/info.png\">\n",
        "\n",
        "While print( lat[:]) gives the actual latitude data stored in the object, print(lat) will give the latitude metadata. Try it."
      ]
    },
    {
      "cell_type": "markdown",
      "metadata": {
        "id": "kObRNSvw0iRZ"
      },
      "source": [
        "---"
      ]
    },
    {
      "cell_type": "markdown",
      "metadata": {
        "id": "XSC911v-0iRZ"
      },
      "source": [
        "<img align=\"left\" width=\"6%\" style=\"padding-right:10px;\" src=\"images/test.png\">\n",
        "\n",
        "Plot the SST from the netcdf file using the matlplotlib."
      ]
    },
    {
      "cell_type": "code",
      "execution_count": null,
      "metadata": {
        "id": "Tz-5IrA40iRZ",
        "outputId": "eeb95a2c-11c6-4682-a051-71a0bc1fab89"
      },
      "outputs": [
        {
          "data": {
            "text/plain": [
              "Text(0, 0.5, 'Latitude')"
            ]
          },
          "execution_count": 17,
          "metadata": {},
          "output_type": "execute_result"
        },
        {
          "data": {
            "image/png": "[encoded data removed]",
            "text/plain": [
              "<Figure size 640x480 with 2 Axes>"
            ]
          },
          "metadata": {},
          "output_type": "display_data"
        }
      ],
      "source": [
        "from matplotlib import pyplot as plt\n",
        "\n",
        "plt.contourf(lon[:], lat[:], temp[0,:,:]) # to plot temp contours\n",
        "plt.colorbar()\n",
        "plt.title(\"Sea Surface Temperature of the World Oceans\" )\n",
        "plt.xlabel(\"Longitude\")\n",
        "plt.ylabel(\"Latitude\")"
      ]
    },
    {
      "cell_type": "code",
      "execution_count": null,
      "metadata": {
        "id": "L3OFWo9R0iRa"
      },
      "outputs": [],
      "source": []
    },
    {
      "cell_type": "markdown",
      "metadata": {
        "id": "5ZmtQweV0iRa"
      },
      "source": [
        "---"
      ]
    },
    {
      "cell_type": "code",
      "execution_count": null,
      "metadata": {
        "id": "3XEkJ8e50iRa"
      },
      "outputs": [],
      "source": [
        "SST.close()"
      ]
    },
    {
      "cell_type": "markdown",
      "metadata": {
        "id": "LX4d8GQa0iRb"
      },
      "source": [
        "Close the NetCDF file once the processing is over."
      ]
    },
    {
      "cell_type": "markdown",
      "metadata": {
        "id": "O3e3DXy-0iRb"
      },
      "source": [
        "***"
      ]
    },
    {
      "cell_type": "markdown",
      "metadata": {
        "id": "m5iZLvSP0iRb"
      },
      "source": [
        "# Accessing the Remote Data via openDAP"
      ]
    },
    {
      "cell_type": "markdown",
      "metadata": {
        "id": "_pQf7lP20iRb"
      },
      "source": [
        "<img align=\"left\" width=\"6%\" style=\"padding-right:10px;\" src=\"images/key.png\">\n",
        "\n",
        "# What is OPeNDAP?\n",
        "\n",
        "Open-source Project for a Network Data Access Protocol [(OPeNDAP)](https://www.opendap.org/) is the developer of client/server software, of the same name, that enables scientists to share data more easily over the internet.\n",
        "\n",
        "With OPeNDAP, you can access data from any database server that supports OPeNDAP by using an OPeNDAP URL. Through a custom user interface, a command-line interface, or the Internet. Other programmes that support NetCDF include Python, Matlab, R, IDL, IDV, and Panoply."
      ]
    },
    {
      "cell_type": "markdown",
      "metadata": {
        "id": "AGm96Oxu0iRc"
      },
      "source": [
        "## How to use OPeNDAP?"
      ]
    },
    {
      "cell_type": "markdown",
      "metadata": {
        "id": "y2SHZaEn0iRc"
      },
      "source": [
        "One Example of OPeNDAP is given below,\n",
        "\n",
        "http://test.opendap.org/dap/data/nc/sst.mnmean.nc.gz\n",
        "\n",
        "This URL points to monthly means of sea surface temperature, worldwide, compiled by Richard Reynolds of the Climate Modeling branch of NOAA.\n",
        "\n",
        "Downloading the data that the URL points to is the simplest option. You can either append.ascii and send the URL to a standard web browser, or you may feed it to an OPeNDAP-enabled data analysis programme like Ferret, use NetCDF or Xarray packages of python. This strategy would be less than ideal, though, as that URL contains a substantial amount of information that you presumably wouldn't want. Instead, you should become familiar with the types of data the database stores before using limited queries to only retrieve the information you require."
      ]
    },
    {
      "cell_type": "markdown",
      "metadata": {
        "id": "z3nbbMYp0iRc"
      },
      "source": [
        "---"
      ]
    },
    {
      "cell_type": "markdown",
      "metadata": {
        "id": "TYc4RzH20iRc"
      },
      "source": [
        "The below code downloads the CTD profile over Netherlands as NetCDF file using the Deltares OPeNDAP server. The url contains lat, long, depth, time and sea_water_salinity parameters just like the API request parameters."
      ]
    },
    {
      "cell_type": "code",
      "execution_count": null,
      "metadata": {
        "id": "MvGOMlbf0iRc",
        "outputId": "b9640e60-1e6c-4c54-bcd1-f18254aed607"
      },
      "outputs": [
        {
          "name": "stdout",
          "output_type": "stream",
          "text": [
            "dict_keys(['longitude', 'latitude', 'depth', 'time', 'sea_water_salinity'])\n"
          ]
        }
      ],
      "source": [
        "# The URL points to the OPeNDAP dataset\n",
        "dap_url = r'http://opendap.deltares.nl/thredds/dodsC/opendap/rijkswaterstaat/CTD/old/salinity/CTD_2008_sea_water_salinity.nc?longitude[0:1:185],latitude[0:1:185],depth[0:1:185],time[0:1:185],sea_water_salinity[0:1:185]'\n",
        "\n",
        "# The Dataset is read using Dataset funactin of NetCDF package\n",
        "dap_data= netCDF4.Dataset(dap_url)\n",
        "print(dap_data.variables.keys())\n"
      ]
    },
    {
      "cell_type": "markdown",
      "metadata": {
        "id": "TnRgmQdK0iRd"
      },
      "source": [
        "***"
      ]
    },
    {
      "cell_type": "markdown",
      "metadata": {
        "id": "y9KRamox0iRd"
      },
      "source": [
        "<img align=\"left\" width=\"6%\" style=\"padding-right:10px;\" src=\"images/test.png\">\n",
        "\n",
        "Plot the Depth-Salinity from the CTD NetCDF file."
      ]
    },
    {
      "cell_type": "code",
      "execution_count": null,
      "metadata": {
        "id": "75EroltN0iRd"
      },
      "outputs": [],
      "source": []
    },
    {
      "cell_type": "code",
      "execution_count": null,
      "metadata": {
        "scrolled": true,
        "id": "KFA7ENtA0iRe",
        "outputId": "fba9fa3c-9cd8-41a0-ec10-847122f5d234"
      },
      "outputs": [
        {
          "data": {
            "text/plain": [
              "Text(0, 0.5, 'Salinity [PSU]')"
            ]
          },
          "execution_count": 51,
          "metadata": {},
          "output_type": "execute_result"
        },
        {
          "data": {
            "image/png": "[encoded data removed]",
            "text/plain": [
              "<Figure size 640x480 with 1 Axes>"
            ]
          },
          "metadata": {},
          "output_type": "display_data"
        }
      ],
      "source": [
        "import numpy as np\n",
        "import matplotlib.pyplot as plt\n",
        "\n",
        "%matplotlib inline\n",
        "\n",
        "lat= dap_data.variables['latitude'][:]\n",
        "lon=dap_data.variables['longitude'][:]\n",
        "sal=dap_data.variables['sea_water_salinity'][:]\n",
        "depth= dap_data.variables['depth'][:]\n",
        "min_lat= round(lat.min(),2)\n",
        "max_lat=round(lat.max(),2)\n",
        "min_ln=round(lon.min(),2)\n",
        "max_ln=round(lon.max(),2)\n",
        "title=\"Salinity-Depth Diagram between Latitude: \"+str(min_lat)+ \" - \"+ str(max_lat)+ \" Longitude: \"+str(min_ln)+ \" - \"+ str(max_ln)\n",
        "\n",
        "\n",
        "plt.plot(  depth, sal,color='blue', linewidth=5, linestyle='dotted',\n",
        "         marker='o', markersize=5, markerfacecolor='red', markeredgecolor='red' )\n",
        "plt.axis([ (depth.max())+10, (depth.min()) - 10, sal.min() -1, sal.max() +1])\n",
        "plt.title(title)\n",
        "plt.xlabel(\"Depth m\")\n",
        "plt.ylabel(\"Salinity [PSU]\")"
      ]
    },
    {
      "cell_type": "markdown",
      "metadata": {
        "id": "LQtk4p8n0iRe"
      },
      "source": [
        "\n",
        "\n",
        "**Note: The graph shows that the salinity value ranges fron 30-31 PSU between 365-330 m depth. Try to look at the salinity distribtion between 365-330 m depth by changing the extent.**"
      ]
    },
    {
      "cell_type": "code",
      "execution_count": null,
      "metadata": {
        "id": "FMMWxbpy0iRe"
      },
      "outputs": [],
      "source": [
        "dap_data.close() # close the .nc file"
      ]
    },
    {
      "cell_type": "markdown",
      "metadata": {
        "id": "-zyU6xOy0iRe"
      },
      "source": [
        "***"
      ]
    },
    {
      "cell_type": "markdown",
      "metadata": {
        "id": "y3V2P1mo0iRf"
      },
      "source": [
        "# Reading and analyzing NetCDF data with Xarray"
      ]
    },
    {
      "cell_type": "markdown",
      "metadata": {
        "id": "B2hVOVXL0iRf"
      },
      "source": [
        "## What is Xarray?\n",
        "\n",
        "The capabilities of NumPy arrays are enhanced by XArray, which offers a lot of simplified data manipulation. It is comparable to Pandas in that regard, however XArray specialises in handling N-dimensional arrays of data, whereas Pandas excels at working with tabular data (i.e. grids). Although its interface is mostly based on the netCDF data model (variables, attributes, and dimensions), it goes beyond the standard netCDF APIs to give capabilities akin to the Common Data Model of netCDF-java (CDM)."
      ]
    },
    {
      "cell_type": "markdown",
      "metadata": {
        "id": "3LwnI3OF0iRf"
      },
      "source": [
        "#### ERDDAP\n",
        "[ERDDAP](https://oceanwatch.pifsc.noaa.gov/erddap/index.html) is a data server that gives you a simple, consistent way to download subsets of scientific datasets in common file formats and make graphs and maps. This particular ERDDAP installation has oceanographic data (for example, data from satellites and buoys)."
      ]
    },
    {
      "cell_type": "markdown",
      "metadata": {
        "id": "bWqLQayu0iRf"
      },
      "source": [
        "---"
      ]
    },
    {
      "cell_type": "markdown",
      "metadata": {
        "id": "gWWrVC9Z0iRf"
      },
      "source": [
        "The below code download SST data (OceanWatch) for Hudson Bay (GGE6302 Project study Area) from ERDDAP with time, lat and lon parameters."
      ]
    },
    {
      "cell_type": "code",
      "execution_count": null,
      "metadata": {
        "colab": {
          "base_uri": "https://localhost:8080/",
          "height": 450
        },
        "id": "w1gbbAje0iRf",
        "outputId": "172bddb7-22c9-4615-fd99-a46a82b0676a"
      },
      "outputs": [
        {
          "output_type": "error",
          "ename": "URLError",
          "evalue": "ignored",
          "traceback": [
            "\u001b[0;31m---------------------------------------------------------------------------\u001b[0m",
            "\u001b[0;31mTimeoutError\u001b[0m                              Traceback (most recent call last)",
            "\u001b[0;32m/usr/lib/python3.7/urllib/request.py\u001b[0m in \u001b[0;36mdo_open\u001b[0;34m(self, http_class, req, **http_conn_args)\u001b[0m\n\u001b[1;32m   1349\u001b[0m                 h.request(req.get_method(), req.selector, req.data, headers,\n\u001b[0;32m-> 1350\u001b[0;31m                           encode_chunked=req.has_header('Transfer-encoding'))\n\u001b[0m\u001b[1;32m   1351\u001b[0m             \u001b[0;32mexcept\u001b[0m \u001b[0mOSError\u001b[0m \u001b[0;32mas\u001b[0m \u001b[0merr\u001b[0m\u001b[0;34m:\u001b[0m \u001b[0;31m# timeout error\u001b[0m\u001b[0;34m\u001b[0m\u001b[0;34m\u001b[0m\u001b[0m\n",
            "\u001b[0;32m/usr/lib/python3.7/http/client.py\u001b[0m in \u001b[0;36mrequest\u001b[0;34m(self, method, url, body, headers, encode_chunked)\u001b[0m\n\u001b[1;32m   1280\u001b[0m         \u001b[0;34m\"\"\"Send a complete request to the server.\"\"\"\u001b[0m\u001b[0;34m\u001b[0m\u001b[0;34m\u001b[0m\u001b[0m\n\u001b[0;32m-> 1281\u001b[0;31m         \u001b[0mself\u001b[0m\u001b[0;34m.\u001b[0m\u001b[0m_send_request\u001b[0m\u001b[0;34m(\u001b[0m\u001b[0mmethod\u001b[0m\u001b[0;34m,\u001b[0m \u001b[0murl\u001b[0m\u001b[0;34m,\u001b[0m \u001b[0mbody\u001b[0m\u001b[0;34m,\u001b[0m \u001b[0mheaders\u001b[0m\u001b[0;34m,\u001b[0m \u001b[0mencode_chunked\u001b[0m\u001b[0;34m)\u001b[0m\u001b[0;34m\u001b[0m\u001b[0;34m\u001b[0m\u001b[0m\n\u001b[0m\u001b[1;32m   1282\u001b[0m \u001b[0;34m\u001b[0m\u001b[0m\n",
            "\u001b[0;32m/usr/lib/python3.7/http/client.py\u001b[0m in \u001b[0;36m_send_request\u001b[0;34m(self, method, url, body, headers, encode_chunked)\u001b[0m\n\u001b[1;32m   1326\u001b[0m             \u001b[0mbody\u001b[0m \u001b[0;34m=\u001b[0m \u001b[0m_encode\u001b[0m\u001b[0;34m(\u001b[0m\u001b[0mbody\u001b[0m\u001b[0;34m,\u001b[0m \u001b[0;34m'body'\u001b[0m\u001b[0;34m)\u001b[0m\u001b[0;34m\u001b[0m\u001b[0;34m\u001b[0m\u001b[0m\n\u001b[0;32m-> 1327\u001b[0;31m         \u001b[0mself\u001b[0m\u001b[0;34m.\u001b[0m\u001b[0mendheaders\u001b[0m\u001b[0;34m(\u001b[0m\u001b[0mbody\u001b[0m\u001b[0;34m,\u001b[0m \u001b[0mencode_chunked\u001b[0m\u001b[0;34m=\u001b[0m\u001b[0mencode_chunked\u001b[0m\u001b[0;34m)\u001b[0m\u001b[0;34m\u001b[0m\u001b[0;34m\u001b[0m\u001b[0m\n\u001b[0m\u001b[1;32m   1328\u001b[0m \u001b[0;34m\u001b[0m\u001b[0m\n",
            "\u001b[0;32m/usr/lib/python3.7/http/client.py\u001b[0m in \u001b[0;36mendheaders\u001b[0;34m(self, message_body, encode_chunked)\u001b[0m\n\u001b[1;32m   1275\u001b[0m             \u001b[0;32mraise\u001b[0m \u001b[0mCannotSendHeader\u001b[0m\u001b[0;34m(\u001b[0m\u001b[0;34m)\u001b[0m\u001b[0;34m\u001b[0m\u001b[0;34m\u001b[0m\u001b[0m\n\u001b[0;32m-> 1276\u001b[0;31m         \u001b[0mself\u001b[0m\u001b[0;34m.\u001b[0m\u001b[0m_send_output\u001b[0m\u001b[0;34m(\u001b[0m\u001b[0mmessage_body\u001b[0m\u001b[0;34m,\u001b[0m \u001b[0mencode_chunked\u001b[0m\u001b[0;34m=\u001b[0m\u001b[0mencode_chunked\u001b[0m\u001b[0;34m)\u001b[0m\u001b[0;34m\u001b[0m\u001b[0;34m\u001b[0m\u001b[0m\n\u001b[0m\u001b[1;32m   1277\u001b[0m \u001b[0;34m\u001b[0m\u001b[0m\n",
            "\u001b[0;32m/usr/lib/python3.7/http/client.py\u001b[0m in \u001b[0;36m_send_output\u001b[0;34m(self, message_body, encode_chunked)\u001b[0m\n\u001b[1;32m   1035\u001b[0m         \u001b[0;32mdel\u001b[0m \u001b[0mself\u001b[0m\u001b[0;34m.\u001b[0m\u001b[0m_buffer\u001b[0m\u001b[0;34m[\u001b[0m\u001b[0;34m:\u001b[0m\u001b[0;34m]\u001b[0m\u001b[0;34m\u001b[0m\u001b[0;34m\u001b[0m\u001b[0m\n\u001b[0;32m-> 1036\u001b[0;31m         \u001b[0mself\u001b[0m\u001b[0;34m.\u001b[0m\u001b[0msend\u001b[0m\u001b[0;34m(\u001b[0m\u001b[0mmsg\u001b[0m\u001b[0;34m)\u001b[0m\u001b[0;34m\u001b[0m\u001b[0;34m\u001b[0m\u001b[0m\n\u001b[0m\u001b[1;32m   1037\u001b[0m \u001b[0;34m\u001b[0m\u001b[0m\n",
            "\u001b[0;32m/usr/lib/python3.7/http/client.py\u001b[0m in \u001b[0;36msend\u001b[0;34m(self, data)\u001b[0m\n\u001b[1;32m    975\u001b[0m             \u001b[0;32mif\u001b[0m \u001b[0mself\u001b[0m\u001b[0;34m.\u001b[0m\u001b[0mauto_open\u001b[0m\u001b[0;34m:\u001b[0m\u001b[0;34m\u001b[0m\u001b[0;34m\u001b[0m\u001b[0m\n\u001b[0;32m--> 976\u001b[0;31m                 \u001b[0mself\u001b[0m\u001b[0;34m.\u001b[0m\u001b[0mconnect\u001b[0m\u001b[0;34m(\u001b[0m\u001b[0;34m)\u001b[0m\u001b[0;34m\u001b[0m\u001b[0;34m\u001b[0m\u001b[0m\n\u001b[0m\u001b[1;32m    977\u001b[0m             \u001b[0;32melse\u001b[0m\u001b[0;34m:\u001b[0m\u001b[0;34m\u001b[0m\u001b[0;34m\u001b[0m\u001b[0m\n",
            "\u001b[0;32m/usr/lib/python3.7/http/client.py\u001b[0m in \u001b[0;36mconnect\u001b[0;34m(self)\u001b[0m\n\u001b[1;32m   1442\u001b[0m \u001b[0;34m\u001b[0m\u001b[0m\n\u001b[0;32m-> 1443\u001b[0;31m             \u001b[0msuper\u001b[0m\u001b[0;34m(\u001b[0m\u001b[0;34m)\u001b[0m\u001b[0;34m.\u001b[0m\u001b[0mconnect\u001b[0m\u001b[0;34m(\u001b[0m\u001b[0;34m)\u001b[0m\u001b[0;34m\u001b[0m\u001b[0;34m\u001b[0m\u001b[0m\n\u001b[0m\u001b[1;32m   1444\u001b[0m \u001b[0;34m\u001b[0m\u001b[0m\n",
            "\u001b[0;32m/usr/lib/python3.7/http/client.py\u001b[0m in \u001b[0;36mconnect\u001b[0;34m(self)\u001b[0m\n\u001b[1;32m    947\u001b[0m         self.sock = self._create_connection(\n\u001b[0;32m--> 948\u001b[0;31m             (self.host,self.port), self.timeout, self.source_address)\n\u001b[0m\u001b[1;32m    949\u001b[0m         \u001b[0mself\u001b[0m\u001b[0;34m.\u001b[0m\u001b[0msock\u001b[0m\u001b[0;34m.\u001b[0m\u001b[0msetsockopt\u001b[0m\u001b[0;34m(\u001b[0m\u001b[0msocket\u001b[0m\u001b[0;34m.\u001b[0m\u001b[0mIPPROTO_TCP\u001b[0m\u001b[0;34m,\u001b[0m \u001b[0msocket\u001b[0m\u001b[0;34m.\u001b[0m\u001b[0mTCP_NODELAY\u001b[0m\u001b[0;34m,\u001b[0m \u001b[0;36m1\u001b[0m\u001b[0;34m)\u001b[0m\u001b[0;34m\u001b[0m\u001b[0;34m\u001b[0m\u001b[0m\n",
            "\u001b[0;32m/usr/lib/python3.7/socket.py\u001b[0m in \u001b[0;36mcreate_connection\u001b[0;34m(address, timeout, source_address)\u001b[0m\n\u001b[1;32m    727\u001b[0m         \u001b[0;32mtry\u001b[0m\u001b[0;34m:\u001b[0m\u001b[0;34m\u001b[0m\u001b[0;34m\u001b[0m\u001b[0m\n\u001b[0;32m--> 728\u001b[0;31m             \u001b[0;32mraise\u001b[0m \u001b[0merr\u001b[0m\u001b[0;34m\u001b[0m\u001b[0;34m\u001b[0m\u001b[0m\n\u001b[0m\u001b[1;32m    729\u001b[0m         \u001b[0;32mfinally\u001b[0m\u001b[0;34m:\u001b[0m\u001b[0;34m\u001b[0m\u001b[0;34m\u001b[0m\u001b[0m\n",
            "\u001b[0;32m/usr/lib/python3.7/socket.py\u001b[0m in \u001b[0;36mcreate_connection\u001b[0;34m(address, timeout, source_address)\u001b[0m\n\u001b[1;32m    715\u001b[0m                 \u001b[0msock\u001b[0m\u001b[0;34m.\u001b[0m\u001b[0mbind\u001b[0m\u001b[0;34m(\u001b[0m\u001b[0msource_address\u001b[0m\u001b[0;34m)\u001b[0m\u001b[0;34m\u001b[0m\u001b[0;34m\u001b[0m\u001b[0m\n\u001b[0;32m--> 716\u001b[0;31m             \u001b[0msock\u001b[0m\u001b[0;34m.\u001b[0m\u001b[0mconnect\u001b[0m\u001b[0;34m(\u001b[0m\u001b[0msa\u001b[0m\u001b[0;34m)\u001b[0m\u001b[0;34m\u001b[0m\u001b[0;34m\u001b[0m\u001b[0m\n\u001b[0m\u001b[1;32m    717\u001b[0m             \u001b[0;31m# Break explicitly a reference cycle\u001b[0m\u001b[0;34m\u001b[0m\u001b[0;34m\u001b[0m\u001b[0;34m\u001b[0m\u001b[0m\n",
            "\u001b[0;31mTimeoutError\u001b[0m: [Errno 110] Connection timed out",
            "\nDuring handling of the above exception, another exception occurred:\n",
            "\u001b[0;31mURLError\u001b[0m                                  Traceback (most recent call last)",
            "\u001b[0;32m<ipython-input-8-e38b4eb9ec0c>\u001b[0m in \u001b[0;36m<module>\u001b[0;34m\u001b[0m\n\u001b[1;32m      2\u001b[0m \u001b[0;34m\u001b[0m\u001b[0m\n\u001b[1;32m      3\u001b[0m \u001b[0murl\u001b[0m\u001b[0;34m=\u001b[0m\u001b[0;34m\"https://oceanwatch.pifsc.noaa.gov/erddap/griddap/CRW_sst_v1_0_monthly.nc?analysed_sst%5B(2019-01-01T12:00:00Z):1:(2019-12-01T12:00:00Z)%5D%5B(51.190361):1:(64.623877)%5D%5B(264.76609):1:(283.70691)%5D\"\u001b[0m\u001b[0;34m\u001b[0m\u001b[0;34m\u001b[0m\u001b[0m\n\u001b[0;32m----> 4\u001b[0;31m \u001b[0murllib\u001b[0m\u001b[0;34m.\u001b[0m\u001b[0mrequest\u001b[0m\u001b[0;34m.\u001b[0m\u001b[0murlretrieve\u001b[0m\u001b[0;34m(\u001b[0m\u001b[0murl\u001b[0m\u001b[0;34m,\u001b[0m \u001b[0;34m\"sst.nc\"\u001b[0m\u001b[0;34m)\u001b[0m \u001b[0;31m# retrieve data from URL\u001b[0m\u001b[0;34m\u001b[0m\u001b[0;34m\u001b[0m\u001b[0m\n\u001b[0m",
            "\u001b[0;32m/usr/lib/python3.7/urllib/request.py\u001b[0m in \u001b[0;36murlretrieve\u001b[0;34m(url, filename, reporthook, data)\u001b[0m\n\u001b[1;32m    245\u001b[0m     \u001b[0murl_type\u001b[0m\u001b[0;34m,\u001b[0m \u001b[0mpath\u001b[0m \u001b[0;34m=\u001b[0m \u001b[0msplittype\u001b[0m\u001b[0;34m(\u001b[0m\u001b[0murl\u001b[0m\u001b[0;34m)\u001b[0m\u001b[0;34m\u001b[0m\u001b[0;34m\u001b[0m\u001b[0m\n\u001b[1;32m    246\u001b[0m \u001b[0;34m\u001b[0m\u001b[0m\n\u001b[0;32m--> 247\u001b[0;31m     \u001b[0;32mwith\u001b[0m \u001b[0mcontextlib\u001b[0m\u001b[0;34m.\u001b[0m\u001b[0mclosing\u001b[0m\u001b[0;34m(\u001b[0m\u001b[0murlopen\u001b[0m\u001b[0;34m(\u001b[0m\u001b[0murl\u001b[0m\u001b[0;34m,\u001b[0m \u001b[0mdata\u001b[0m\u001b[0;34m)\u001b[0m\u001b[0;34m)\u001b[0m \u001b[0;32mas\u001b[0m \u001b[0mfp\u001b[0m\u001b[0;34m:\u001b[0m\u001b[0;34m\u001b[0m\u001b[0;34m\u001b[0m\u001b[0m\n\u001b[0m\u001b[1;32m    248\u001b[0m         \u001b[0mheaders\u001b[0m \u001b[0;34m=\u001b[0m \u001b[0mfp\u001b[0m\u001b[0;34m.\u001b[0m\u001b[0minfo\u001b[0m\u001b[0;34m(\u001b[0m\u001b[0;34m)\u001b[0m\u001b[0;34m\u001b[0m\u001b[0;34m\u001b[0m\u001b[0m\n\u001b[1;32m    249\u001b[0m \u001b[0;34m\u001b[0m\u001b[0m\n",
            "\u001b[0;32m/usr/lib/python3.7/urllib/request.py\u001b[0m in \u001b[0;36murlopen\u001b[0;34m(url, data, timeout, cafile, capath, cadefault, context)\u001b[0m\n\u001b[1;32m    220\u001b[0m     \u001b[0;32melse\u001b[0m\u001b[0;34m:\u001b[0m\u001b[0;34m\u001b[0m\u001b[0;34m\u001b[0m\u001b[0m\n\u001b[1;32m    221\u001b[0m         \u001b[0mopener\u001b[0m \u001b[0;34m=\u001b[0m \u001b[0m_opener\u001b[0m\u001b[0;34m\u001b[0m\u001b[0;34m\u001b[0m\u001b[0m\n\u001b[0;32m--> 222\u001b[0;31m     \u001b[0;32mreturn\u001b[0m \u001b[0mopener\u001b[0m\u001b[0;34m.\u001b[0m\u001b[0mopen\u001b[0m\u001b[0;34m(\u001b[0m\u001b[0murl\u001b[0m\u001b[0;34m,\u001b[0m \u001b[0mdata\u001b[0m\u001b[0;34m,\u001b[0m \u001b[0mtimeout\u001b[0m\u001b[0;34m)\u001b[0m\u001b[0;34m\u001b[0m\u001b[0;34m\u001b[0m\u001b[0m\n\u001b[0m\u001b[1;32m    223\u001b[0m \u001b[0;34m\u001b[0m\u001b[0m\n\u001b[1;32m    224\u001b[0m \u001b[0;32mdef\u001b[0m \u001b[0minstall_opener\u001b[0m\u001b[0;34m(\u001b[0m\u001b[0mopener\u001b[0m\u001b[0;34m)\u001b[0m\u001b[0;34m:\u001b[0m\u001b[0;34m\u001b[0m\u001b[0;34m\u001b[0m\u001b[0m\n",
            "\u001b[0;32m/usr/lib/python3.7/urllib/request.py\u001b[0m in \u001b[0;36mopen\u001b[0;34m(self, fullurl, data, timeout)\u001b[0m\n\u001b[1;32m    523\u001b[0m             \u001b[0mreq\u001b[0m \u001b[0;34m=\u001b[0m \u001b[0mmeth\u001b[0m\u001b[0;34m(\u001b[0m\u001b[0mreq\u001b[0m\u001b[0;34m)\u001b[0m\u001b[0;34m\u001b[0m\u001b[0;34m\u001b[0m\u001b[0m\n\u001b[1;32m    524\u001b[0m \u001b[0;34m\u001b[0m\u001b[0m\n\u001b[0;32m--> 525\u001b[0;31m         \u001b[0mresponse\u001b[0m \u001b[0;34m=\u001b[0m \u001b[0mself\u001b[0m\u001b[0;34m.\u001b[0m\u001b[0m_open\u001b[0m\u001b[0;34m(\u001b[0m\u001b[0mreq\u001b[0m\u001b[0;34m,\u001b[0m \u001b[0mdata\u001b[0m\u001b[0;34m)\u001b[0m\u001b[0;34m\u001b[0m\u001b[0;34m\u001b[0m\u001b[0m\n\u001b[0m\u001b[1;32m    526\u001b[0m \u001b[0;34m\u001b[0m\u001b[0m\n\u001b[1;32m    527\u001b[0m         \u001b[0;31m# post-process response\u001b[0m\u001b[0;34m\u001b[0m\u001b[0;34m\u001b[0m\u001b[0;34m\u001b[0m\u001b[0m\n",
            "\u001b[0;32m/usr/lib/python3.7/urllib/request.py\u001b[0m in \u001b[0;36m_open\u001b[0;34m(self, req, data)\u001b[0m\n\u001b[1;32m    541\u001b[0m         \u001b[0mprotocol\u001b[0m \u001b[0;34m=\u001b[0m \u001b[0mreq\u001b[0m\u001b[0;34m.\u001b[0m\u001b[0mtype\u001b[0m\u001b[0;34m\u001b[0m\u001b[0;34m\u001b[0m\u001b[0m\n\u001b[1;32m    542\u001b[0m         result = self._call_chain(self.handle_open, protocol, protocol +\n\u001b[0;32m--> 543\u001b[0;31m                                   '_open', req)\n\u001b[0m\u001b[1;32m    544\u001b[0m         \u001b[0;32mif\u001b[0m \u001b[0mresult\u001b[0m\u001b[0;34m:\u001b[0m\u001b[0;34m\u001b[0m\u001b[0;34m\u001b[0m\u001b[0m\n\u001b[1;32m    545\u001b[0m             \u001b[0;32mreturn\u001b[0m \u001b[0mresult\u001b[0m\u001b[0;34m\u001b[0m\u001b[0;34m\u001b[0m\u001b[0m\n",
            "\u001b[0;32m/usr/lib/python3.7/urllib/request.py\u001b[0m in \u001b[0;36m_call_chain\u001b[0;34m(self, chain, kind, meth_name, *args)\u001b[0m\n\u001b[1;32m    501\u001b[0m         \u001b[0;32mfor\u001b[0m \u001b[0mhandler\u001b[0m \u001b[0;32min\u001b[0m \u001b[0mhandlers\u001b[0m\u001b[0;34m:\u001b[0m\u001b[0;34m\u001b[0m\u001b[0;34m\u001b[0m\u001b[0m\n\u001b[1;32m    502\u001b[0m             \u001b[0mfunc\u001b[0m \u001b[0;34m=\u001b[0m \u001b[0mgetattr\u001b[0m\u001b[0;34m(\u001b[0m\u001b[0mhandler\u001b[0m\u001b[0;34m,\u001b[0m \u001b[0mmeth_name\u001b[0m\u001b[0;34m)\u001b[0m\u001b[0;34m\u001b[0m\u001b[0;34m\u001b[0m\u001b[0m\n\u001b[0;32m--> 503\u001b[0;31m             \u001b[0mresult\u001b[0m \u001b[0;34m=\u001b[0m \u001b[0mfunc\u001b[0m\u001b[0;34m(\u001b[0m\u001b[0;34m*\u001b[0m\u001b[0margs\u001b[0m\u001b[0;34m)\u001b[0m\u001b[0;34m\u001b[0m\u001b[0;34m\u001b[0m\u001b[0m\n\u001b[0m\u001b[1;32m    504\u001b[0m             \u001b[0;32mif\u001b[0m \u001b[0mresult\u001b[0m \u001b[0;32mis\u001b[0m \u001b[0;32mnot\u001b[0m \u001b[0;32mNone\u001b[0m\u001b[0;34m:\u001b[0m\u001b[0;34m\u001b[0m\u001b[0;34m\u001b[0m\u001b[0m\n\u001b[1;32m    505\u001b[0m                 \u001b[0;32mreturn\u001b[0m \u001b[0mresult\u001b[0m\u001b[0;34m\u001b[0m\u001b[0;34m\u001b[0m\u001b[0m\n",
            "\u001b[0;32m/usr/lib/python3.7/urllib/request.py\u001b[0m in \u001b[0;36mhttps_open\u001b[0;34m(self, req)\u001b[0m\n\u001b[1;32m   1391\u001b[0m         \u001b[0;32mdef\u001b[0m \u001b[0mhttps_open\u001b[0m\u001b[0;34m(\u001b[0m\u001b[0mself\u001b[0m\u001b[0;34m,\u001b[0m \u001b[0mreq\u001b[0m\u001b[0;34m)\u001b[0m\u001b[0;34m:\u001b[0m\u001b[0;34m\u001b[0m\u001b[0;34m\u001b[0m\u001b[0m\n\u001b[1;32m   1392\u001b[0m             return self.do_open(http.client.HTTPSConnection, req,\n\u001b[0;32m-> 1393\u001b[0;31m                 context=self._context, check_hostname=self._check_hostname)\n\u001b[0m\u001b[1;32m   1394\u001b[0m \u001b[0;34m\u001b[0m\u001b[0m\n\u001b[1;32m   1395\u001b[0m         \u001b[0mhttps_request\u001b[0m \u001b[0;34m=\u001b[0m \u001b[0mAbstractHTTPHandler\u001b[0m\u001b[0;34m.\u001b[0m\u001b[0mdo_request_\u001b[0m\u001b[0;34m\u001b[0m\u001b[0;34m\u001b[0m\u001b[0m\n",
            "\u001b[0;32m/usr/lib/python3.7/urllib/request.py\u001b[0m in \u001b[0;36mdo_open\u001b[0;34m(self, http_class, req, **http_conn_args)\u001b[0m\n\u001b[1;32m   1350\u001b[0m                           encode_chunked=req.has_header('Transfer-encoding'))\n\u001b[1;32m   1351\u001b[0m             \u001b[0;32mexcept\u001b[0m \u001b[0mOSError\u001b[0m \u001b[0;32mas\u001b[0m \u001b[0merr\u001b[0m\u001b[0;34m:\u001b[0m \u001b[0;31m# timeout error\u001b[0m\u001b[0;34m\u001b[0m\u001b[0;34m\u001b[0m\u001b[0m\n\u001b[0;32m-> 1352\u001b[0;31m                 \u001b[0;32mraise\u001b[0m \u001b[0mURLError\u001b[0m\u001b[0;34m(\u001b[0m\u001b[0merr\u001b[0m\u001b[0;34m)\u001b[0m\u001b[0;34m\u001b[0m\u001b[0;34m\u001b[0m\u001b[0m\n\u001b[0m\u001b[1;32m   1353\u001b[0m             \u001b[0mr\u001b[0m \u001b[0;34m=\u001b[0m \u001b[0mh\u001b[0m\u001b[0;34m.\u001b[0m\u001b[0mgetresponse\u001b[0m\u001b[0;34m(\u001b[0m\u001b[0;34m)\u001b[0m\u001b[0;34m\u001b[0m\u001b[0;34m\u001b[0m\u001b[0m\n\u001b[1;32m   1354\u001b[0m         \u001b[0;32mexcept\u001b[0m\u001b[0;34m:\u001b[0m\u001b[0;34m\u001b[0m\u001b[0;34m\u001b[0m\u001b[0m\n",
            "\u001b[0;31mURLError\u001b[0m: <urlopen error [Errno 110] Connection timed out>"
          ]
        }
      ],
      "source": [
        "import urllib.request\n",
        "\n",
        "url=\"https://oceanwatch.pifsc.noaa.gov/erddap/griddap/CRW_sst_v1_0_monthly.nc?analysed_sst%5B(2019-01-01T12:00:00Z):1:(2019-12-01T12:00:00Z)%5D%5B(51.190361):1:(64.623877)%5D%5B(264.76609):1:(283.70691)%5D\"\n",
        "urllib.request.urlretrieve(url, \"sst.nc\") # retrieve data from URL"
      ]
    },
    {
      "cell_type": "markdown",
      "metadata": {
        "id": "adNEbiHr0iRg"
      },
      "source": [
        "\n",
        "<img align=\"left\" width=\"6%\" style=\"padding-right:10px;\" src=\"images/key.png\">\n",
        "\n",
        "The [xarray](http://xarray.pydata.org/en/stable/why-xarray.html) package makes working with NetCDF files incredibly simple."
      ]
    },
    {
      "cell_type": "markdown",
      "metadata": {
        "id": "kqaYnRHi0iRg"
      },
      "source": [
        "We can now import the data and extract our key variables after downloading it and storing it in our local variable **sst** in the above code.\n",
        "\n"
      ]
    },
    {
      "cell_type": "markdown",
      "metadata": {
        "id": "SBayA1eq0iRg"
      },
      "source": [
        "Import NetCDF and XArray packages"
      ]
    },
    {
      "cell_type": "code",
      "execution_count": null,
      "metadata": {
        "id": "cIpqxyx70iRg"
      },
      "outputs": [],
      "source": [
        "import xarray as xr\n",
        "import netCDF4 as nc"
      ]
    },
    {
      "cell_type": "markdown",
      "metadata": {
        "id": "HCdFrG5P0iRh"
      },
      "source": [
        "---\n",
        "Let's open the .nc file as xarray dataset and examine the variable as we did for the previous .nc files"
      ]
    },
    {
      "cell_type": "code",
      "execution_count": null,
      "metadata": {
        "id": "a0qTVekC0iRh",
        "outputId": "20c9ca17-7a32-4fe9-e4b5-56c8ece72502"
      },
      "outputs": [
        {
          "data": {
            "text/html": [
              "<div><svg style=\"position: absolute; width: 0; height: 0; overflow: hidden\">\n",
              "<defs>\n",
              "<symbol id=\"icon-database\" viewBox=\"0 0 32 32\">\n",
              "<path d=\"M16 0c-8.837 0-16 2.239-16 5v4c0 2.761 7.163 5 16 5s16-2.239 16-5v-4c0-2.761-7.163-5-16-5z\"></path>\n",
              "<path d=\"M16 17c-8.837 0-16-2.239-16-5v6c0 2.761 7.163 5 16 5s16-2.239 16-5v-6c0 2.761-7.163 5-16 5z\"></path>\n",
              "<path d=\"M16 26c-8.837 0-16-2.239-16-5v6c0 2.761 7.163 5 16 5s16-2.239 16-5v-6c0 2.761-7.163 5-16 5z\"></path>\n",
              "</symbol>\n",
              "<symbol id=\"icon-file-text2\" viewBox=\"0 0 32 32\">\n",
              "<path d=\"M28.681 7.159c-0.694-0.947-1.662-2.053-2.724-3.116s-2.169-2.030-3.116-2.724c-1.612-1.182-2.393-1.319-2.841-1.319h-15.5c-1.378 0-2.5 1.121-2.5 2.5v27c0 1.378 1.122 2.5 2.5 2.5h23c1.378 0 2.5-1.122 2.5-2.5v-19.5c0-0.448-0.137-1.23-1.319-2.841zM24.543 5.457c0.959 0.959 1.712 1.825 2.268 2.543h-4.811v-4.811c0.718 0.556 1.584 1.309 2.543 2.268zM28 29.5c0 0.271-0.229 0.5-0.5 0.5h-23c-0.271 0-0.5-0.229-0.5-0.5v-27c0-0.271 0.229-0.5 0.5-0.5 0 0 15.499-0 15.5 0v7c0 0.552 0.448 1 1 1h7v19.5z\"></path>\n",
              "<path d=\"M23 26h-14c-0.552 0-1-0.448-1-1s0.448-1 1-1h14c0.552 0 1 0.448 1 1s-0.448 1-1 1z\"></path>\n",
              "<path d=\"M23 22h-14c-0.552 0-1-0.448-1-1s0.448-1 1-1h14c0.552 0 1 0.448 1 1s-0.448 1-1 1z\"></path>\n",
              "<path d=\"M23 18h-14c-0.552 0-1-0.448-1-1s0.448-1 1-1h14c0.552 0 1 0.448 1 1s-0.448 1-1 1z\"></path>\n",
              "</symbol>\n",
              "</defs>\n",
              "</svg>\n",
              "<style>/* CSS stylesheet for displaying xarray objects in jupyterlab.\n",
              " *\n",
              " */\n",
              "\n",
              ":root {\n",
              "  --xr-font-color0: var(--jp-content-font-color0, rgba(0, 0, 0, 1));\n",
              "  --xr-font-color2: var(--jp-content-font-color2, rgba(0, 0, 0, 0.54));\n",
              "  --xr-font-color3: var(--jp-content-font-color3, rgba(0, 0, 0, 0.38));\n",
              "  --xr-border-color: var(--jp-border-color2, #e0e0e0);\n",
              "  --xr-disabled-color: var(--jp-layout-color3, #bdbdbd);\n",
              "  --xr-background-color: var(--jp-layout-color0, white);\n",
              "  --xr-background-color-row-even: var(--jp-layout-color1, white);\n",
              "  --xr-background-color-row-odd: var(--jp-layout-color2, #eeeeee);\n",
              "}\n",
              "\n",
              "html[theme=dark],\n",
              "body.vscode-dark {\n",
              "  --xr-font-color0: rgba(255, 255, 255, 1);\n",
              "  --xr-font-color2: rgba(255, 255, 255, 0.54);\n",
              "  --xr-font-color3: rgba(255, 255, 255, 0.38);\n",
              "  --xr-border-color: #1F1F1F;\n",
              "  --xr-disabled-color: #515151;\n",
              "  --xr-background-color: #111111;\n",
              "  --xr-background-color-row-even: #111111;\n",
              "  --xr-background-color-row-odd: #313131;\n",
              "}\n",
              "\n",
              ".xr-wrap {\n",
              "  display: block;\n",
              "  min-width: 300px;\n",
              "  max-width: 700px;\n",
              "}\n",
              "\n",
              ".xr-text-repr-fallback {\n",
              "  /* fallback to plain text repr when CSS is not injected (untrusted notebook) */\n",
              "  display: none;\n",
              "}\n",
              "\n",
              ".xr-header {\n",
              "  padding-top: 6px;\n",
              "  padding-bottom: 6px;\n",
              "  margin-bottom: 4px;\n",
              "  border-bottom: solid 1px var(--xr-border-color);\n",
              "}\n",
              "\n",
              ".xr-header > div,\n",
              ".xr-header > ul {\n",
              "  display: inline;\n",
              "  margin-top: 0;\n",
              "  margin-bottom: 0;\n",
              "}\n",
              "\n",
              ".xr-obj-type,\n",
              ".xr-array-name {\n",
              "  margin-left: 2px;\n",
              "  margin-right: 10px;\n",
              "}\n",
              "\n",
              ".xr-obj-type {\n",
              "  color: var(--xr-font-color2);\n",
              "}\n",
              "\n",
              ".xr-sections {\n",
              "  padding-left: 0 !important;\n",
              "  display: grid;\n",
              "  grid-template-columns: 150px auto auto 1fr 20px 20px;\n",
              "}\n",
              "\n",
              ".xr-section-item {\n",
              "  display: contents;\n",
              "}\n",
              "\n",
              ".xr-section-item input {\n",
              "  display: none;\n",
              "}\n",
              "\n",
              ".xr-section-item input + label {\n",
              "  color: var(--xr-disabled-color);\n",
              "}\n",
              "\n",
              ".xr-section-item input:enabled + label {\n",
              "  cursor: pointer;\n",
              "  color: var(--xr-font-color2);\n",
              "}\n",
              "\n",
              ".xr-section-item input:enabled + label:hover {\n",
              "  color: var(--xr-font-color0);\n",
              "}\n",
              "\n",
              ".xr-section-summary {\n",
              "  grid-column: 1;\n",
              "  color: var(--xr-font-color2);\n",
              "  font-weight: 500;\n",
              "}\n",
              "\n",
              ".xr-section-summary > span {\n",
              "  display: inline-block;\n",
              "  padding-left: 0.5em;\n",
              "}\n",
              "\n",
              ".xr-section-summary-in:disabled + label {\n",
              "  color: var(--xr-font-color2);\n",
              "}\n",
              "\n",
              ".xr-section-summary-in + label:before {\n",
              "  display: inline-block;\n",
              "  content: '►';\n",
              "  font-size: 11px;\n",
              "  width: 15px;\n",
              "  text-align: center;\n",
              "}\n",
              "\n",
              ".xr-section-summary-in:disabled + label:before {\n",
              "  color: var(--xr-disabled-color);\n",
              "}\n",
              "\n",
              ".xr-section-summary-in:checked + label:before {\n",
              "  content: '▼';\n",
              "}\n",
              "\n",
              ".xr-section-summary-in:checked + label > span {\n",
              "  display: none;\n",
              "}\n",
              "\n",
              ".xr-section-summary,\n",
              ".xr-section-inline-details {\n",
              "  padding-top: 4px;\n",
              "  padding-bottom: 4px;\n",
              "}\n",
              "\n",
              ".xr-section-inline-details {\n",
              "  grid-column: 2 / -1;\n",
              "}\n",
              "\n",
              ".xr-section-details {\n",
              "  display: none;\n",
              "  grid-column: 1 / -1;\n",
              "  margin-bottom: 5px;\n",
              "}\n",
              "\n",
              ".xr-section-summary-in:checked ~ .xr-section-details {\n",
              "  display: contents;\n",
              "}\n",
              "\n",
              ".xr-array-wrap {\n",
              "  grid-column: 1 / -1;\n",
              "  display: grid;\n",
              "  grid-template-columns: 20px auto;\n",
              "}\n",
              "\n",
              ".xr-array-wrap > label {\n",
              "  grid-column: 1;\n",
              "  vertical-align: top;\n",
              "}\n",
              "\n",
              ".xr-preview {\n",
              "  color: var(--xr-font-color3);\n",
              "}\n",
              "\n",
              ".xr-array-preview,\n",
              ".xr-array-data {\n",
              "  padding: 0 5px !important;\n",
              "  grid-column: 2;\n",
              "}\n",
              "\n",
              ".xr-array-data,\n",
              ".xr-array-in:checked ~ .xr-array-preview {\n",
              "  display: none;\n",
              "}\n",
              "\n",
              ".xr-array-in:checked ~ .xr-array-data,\n",
              ".xr-array-preview {\n",
              "  display: inline-block;\n",
              "}\n",
              "\n",
              ".xr-dim-list {\n",
              "  display: inline-block !important;\n",
              "  list-style: none;\n",
              "  padding: 0 !important;\n",
              "  margin: 0;\n",
              "}\n",
              "\n",
              ".xr-dim-list li {\n",
              "  display: inline-block;\n",
              "  padding: 0;\n",
              "  margin: 0;\n",
              "}\n",
              "\n",
              ".xr-dim-list:before {\n",
              "  content: '(';\n",
              "}\n",
              "\n",
              ".xr-dim-list:after {\n",
              "  content: ')';\n",
              "}\n",
              "\n",
              ".xr-dim-list li:not(:last-child):after {\n",
              "  content: ',';\n",
              "  padding-right: 5px;\n",
              "}\n",
              "\n",
              ".xr-has-index {\n",
              "  font-weight: bold;\n",
              "}\n",
              "\n",
              ".xr-var-list,\n",
              ".xr-var-item {\n",
              "  display: contents;\n",
              "}\n",
              "\n",
              ".xr-var-item > div,\n",
              ".xr-var-item label,\n",
              ".xr-var-item > .xr-var-name span {\n",
              "  background-color: var(--xr-background-color-row-even);\n",
              "  margin-bottom: 0;\n",
              "}\n",
              "\n",
              ".xr-var-item > .xr-var-name:hover span {\n",
              "  padding-right: 5px;\n",
              "}\n",
              "\n",
              ".xr-var-list > li:nth-child(odd) > div,\n",
              ".xr-var-list > li:nth-child(odd) > label,\n",
              ".xr-var-list > li:nth-child(odd) > .xr-var-name span {\n",
              "  background-color: var(--xr-background-color-row-odd);\n",
              "}\n",
              "\n",
              ".xr-var-name {\n",
              "  grid-column: 1;\n",
              "}\n",
              "\n",
              ".xr-var-dims {\n",
              "  grid-column: 2;\n",
              "}\n",
              "\n",
              ".xr-var-dtype {\n",
              "  grid-column: 3;\n",
              "  text-align: right;\n",
              "  color: var(--xr-font-color2);\n",
              "}\n",
              "\n",
              ".xr-var-preview {\n",
              "  grid-column: 4;\n",
              "}\n",
              "\n",
              ".xr-var-name,\n",
              ".xr-var-dims,\n",
              ".xr-var-dtype,\n",
              ".xr-preview,\n",
              ".xr-attrs dt {\n",
              "  white-space: nowrap;\n",
              "  overflow: hidden;\n",
              "  text-overflow: ellipsis;\n",
              "  padding-right: 10px;\n",
              "}\n",
              "\n",
              ".xr-var-name:hover,\n",
              ".xr-var-dims:hover,\n",
              ".xr-var-dtype:hover,\n",
              ".xr-attrs dt:hover {\n",
              "  overflow: visible;\n",
              "  width: auto;\n",
              "  z-index: 1;\n",
              "}\n",
              "\n",
              ".xr-var-attrs,\n",
              ".xr-var-data {\n",
              "  display: none;\n",
              "  background-color: var(--xr-background-color) !important;\n",
              "  padding-bottom: 5px !important;\n",
              "}\n",
              "\n",
              ".xr-var-attrs-in:checked ~ .xr-var-attrs,\n",
              ".xr-var-data-in:checked ~ .xr-var-data {\n",
              "  display: block;\n",
              "}\n",
              "\n",
              ".xr-var-data > table {\n",
              "  float: right;\n",
              "}\n",
              "\n",
              ".xr-var-name span,\n",
              ".xr-var-data,\n",
              ".xr-attrs {\n",
              "  padding-left: 25px !important;\n",
              "}\n",
              "\n",
              ".xr-attrs,\n",
              ".xr-var-attrs,\n",
              ".xr-var-data {\n",
              "  grid-column: 1 / -1;\n",
              "}\n",
              "\n",
              "dl.xr-attrs {\n",
              "  padding: 0;\n",
              "  margin: 0;\n",
              "  display: grid;\n",
              "  grid-template-columns: 125px auto;\n",
              "}\n",
              "\n",
              ".xr-attrs dt,\n",
              ".xr-attrs dd {\n",
              "  padding: 0;\n",
              "  margin: 0;\n",
              "  float: left;\n",
              "  padding-right: 10px;\n",
              "  width: auto;\n",
              "}\n",
              "\n",
              ".xr-attrs dt {\n",
              "  font-weight: normal;\n",
              "  grid-column: 1;\n",
              "}\n",
              "\n",
              ".xr-attrs dt:hover span {\n",
              "  display: inline-block;\n",
              "  background: var(--xr-background-color);\n",
              "  padding-right: 10px;\n",
              "}\n",
              "\n",
              ".xr-attrs dd {\n",
              "  grid-column: 2;\n",
              "  white-space: pre-wrap;\n",
              "  word-break: break-all;\n",
              "}\n",
              "\n",
              ".xr-icon-database,\n",
              ".xr-icon-file-text2 {\n",
              "  display: inline-block;\n",
              "  vertical-align: middle;\n",
              "  width: 1em;\n",
              "  height: 1.5em !important;\n",
              "  stroke-width: 0;\n",
              "  stroke: currentColor;\n",
              "  fill: currentColor;\n",
              "}\n",
              "</style><pre class='xr-text-repr-fallback'>&lt;xarray.Dataset&gt;\n",
              "Dimensions:       (time: 12, latitude: 270, longitude: 380)\n",
              "Coordinates:\n",
              "  * time          (time) float64 1.546e+09 1.549e+09 ... 1.573e+09 1.575e+09\n",
              "  * latitude      (latitude) float32 51.17 51.22 51.28 ... 64.53 64.57 64.62\n",
              "  * longitude     (longitude) float32 264.8 264.8 264.9 ... 283.6 283.7 283.7\n",
              "Data variables:\n",
              "    analysed_sst  (time, latitude, longitude) float64 ...\n",
              "Attributes: (12/64)\n",
              "    acknowledgement:            NOAA Coral Reef Watch Program\n",
              "    cdm_data_type:              Grid\n",
              "    comment:                    This product is designed to improve on and re...\n",
              "    contributor_name:           NOAA Coral Reef Watch program\n",
              "    contributor_role:           Collecting source data and deriving products;...\n",
              "    Conventions:                CF-1.6, ACDD-1.3, COARDS\n",
              "    ...                         ...\n",
              "    time_coverage_duration:     P1D\n",
              "    time_coverage_end:          2019-12-01T12:00:00Z\n",
              "    time_coverage_resolution:   P1D\n",
              "    time_coverage_start:        2019-01-01T12:00:00Z\n",
              "    title:                      ZZZ - DEPRECATED - Sea Surface Temperature, C...\n",
              "    Westernmost_Easting:        264.775</pre><div class='xr-wrap' hidden><div class='xr-header'><div class='xr-obj-type'>xarray.Dataset</div></div><ul class='xr-sections'><li class='xr-section-item'><input id='section-fda82d1f-47e2-48d1-abaa-e75049eba497' class='xr-section-summary-in' type='checkbox' disabled ><label for='section-fda82d1f-47e2-48d1-abaa-e75049eba497' class='xr-section-summary'  title='Expand/collapse section'>Dimensions:</label><div class='xr-section-inline-details'><ul class='xr-dim-list'><li><span class='xr-has-index'>time</span>: 12</li><li><span class='xr-has-index'>latitude</span>: 270</li><li><span class='xr-has-index'>longitude</span>: 380</li></ul></div><div class='xr-section-details'></div></li><li class='xr-section-item'><input id='section-c8f2c41a-6396-48a6-adf2-05256f815489' class='xr-section-summary-in' type='checkbox'  checked><label for='section-c8f2c41a-6396-48a6-adf2-05256f815489' class='xr-section-summary' >Coordinates: <span>(3)</span></label><div class='xr-section-inline-details'></div><div class='xr-section-details'><ul class='xr-var-list'><li class='xr-var-item'><div class='xr-var-name'><span class='xr-has-index'>time</span></div><div class='xr-var-dims'>(time)</div><div class='xr-var-dtype'>float64</div><div class='xr-var-preview xr-preview'>1.546e+09 1.549e+09 ... 1.575e+09</div><input id='attrs-cfbb416b-963d-4d06-88a1-0d30e8be9f1f' class='xr-var-attrs-in' type='checkbox' ><label for='attrs-cfbb416b-963d-4d06-88a1-0d30e8be9f1f' title='Show/Hide attributes'><svg class='icon xr-icon-file-text2'><use xlink:href='#icon-file-text2'></use></svg></label><input id='data-e495bdf5-8fd1-457b-ac62-381ed1192d2c' class='xr-var-data-in' type='checkbox'><label for='data-e495bdf5-8fd1-457b-ac62-381ed1192d2c' title='Show/Hide data repr'><svg class='icon xr-icon-database'><use xlink:href='#icon-database'></use></svg></label><div class='xr-var-attrs'><dl class='xr-attrs'><dt><span>_CoordinateAxisType :</span></dt><dd>Time</dd><dt><span>actual_range :</span></dt><dd>[1.5463440e+09 1.5752016e+09]</dd><dt><span>axis :</span></dt><dd>T</dd><dt><span>coverage_content_type :</span></dt><dd>coordinate</dd><dt><span>ioos_category :</span></dt><dd>Time</dd><dt><span>long_name :</span></dt><dd>reference time of the sst field</dd><dt><span>standard_name :</span></dt><dd>time</dd><dt><span>time_origin :</span></dt><dd>01-JAN-1970 00:00:00</dd><dt><span>units :</span></dt><dd>seconds since 1970-01-01T00:00:00Z</dd></dl></div><div class='xr-var-data'><pre>array([1.546344e+09, 1.549022e+09, 1.551442e+09, 1.554120e+09, 1.556712e+09,\n",
              "       1.559390e+09, 1.561982e+09, 1.564661e+09, 1.567339e+09, 1.569931e+09,\n",
              "       1.572610e+09, 1.575202e+09])</pre></div></li><li class='xr-var-item'><div class='xr-var-name'><span class='xr-has-index'>latitude</span></div><div class='xr-var-dims'>(latitude)</div><div class='xr-var-dtype'>float32</div><div class='xr-var-preview xr-preview'>51.17 51.22 51.28 ... 64.57 64.62</div><input id='attrs-c21bb63a-6402-470a-b865-a1a90bff92fc' class='xr-var-attrs-in' type='checkbox' ><label for='attrs-c21bb63a-6402-470a-b865-a1a90bff92fc' title='Show/Hide attributes'><svg class='icon xr-icon-file-text2'><use xlink:href='#icon-file-text2'></use></svg></label><input id='data-646dd3ef-b950-4b82-be8e-a1361f60462d' class='xr-var-data-in' type='checkbox'><label for='data-646dd3ef-b950-4b82-be8e-a1361f60462d' title='Show/Hide data repr'><svg class='icon xr-icon-database'><use xlink:href='#icon-database'></use></svg></label><div class='xr-var-attrs'><dl class='xr-attrs'><dt><span>_CoordinateAxisType :</span></dt><dd>Lat</dd><dt><span>actual_range :</span></dt><dd>[51.175 64.625]</dd><dt><span>axis :</span></dt><dd>Y</dd><dt><span>comment :</span></dt><dd>equirectangular projection and grid centers</dd><dt><span>coverage_content_type :</span></dt><dd>coordinate</dd><dt><span>ioos_category :</span></dt><dd>Location</dd><dt><span>long_name :</span></dt><dd>Latitude</dd><dt><span>standard_name :</span></dt><dd>latitude</dd><dt><span>units :</span></dt><dd>degrees_north</dd><dt><span>valid_max :</span></dt><dd>89.975</dd><dt><span>valid_min :</span></dt><dd>-89.975</dd></dl></div><div class='xr-var-data'><pre>array([51.175, 51.225, 51.275, ..., 64.525, 64.575, 64.625], dtype=float32)</pre></div></li><li class='xr-var-item'><div class='xr-var-name'><span class='xr-has-index'>longitude</span></div><div class='xr-var-dims'>(longitude)</div><div class='xr-var-dtype'>float32</div><div class='xr-var-preview xr-preview'>264.8 264.8 264.9 ... 283.7 283.7</div><input id='attrs-00611cec-7640-4c1f-8b4b-43f739bfac0d' class='xr-var-attrs-in' type='checkbox' ><label for='attrs-00611cec-7640-4c1f-8b4b-43f739bfac0d' title='Show/Hide attributes'><svg class='icon xr-icon-file-text2'><use xlink:href='#icon-file-text2'></use></svg></label><input id='data-aacab16f-9c7d-42ab-bcf6-7348be52c8fc' class='xr-var-data-in' type='checkbox'><label for='data-aacab16f-9c7d-42ab-bcf6-7348be52c8fc' title='Show/Hide data repr'><svg class='icon xr-icon-database'><use xlink:href='#icon-database'></use></svg></label><div class='xr-var-attrs'><dl class='xr-attrs'><dt><span>_CoordinateAxisType :</span></dt><dd>Lon</dd><dt><span>actual_range :</span></dt><dd>[264.775 283.725]</dd><dt><span>axis :</span></dt><dd>X</dd><dt><span>comment :</span></dt><dd>equirectangular projection and grid centers</dd><dt><span>coverage_content_type :</span></dt><dd>coordinate</dd><dt><span>ioos_category :</span></dt><dd>Location</dd><dt><span>long_name :</span></dt><dd>Longitude</dd><dt><span>standard_name :</span></dt><dd>longitude</dd><dt><span>units :</span></dt><dd>degrees_east</dd><dt><span>valid_max :</span></dt><dd>359.975</dd><dt><span>valid_min :</span></dt><dd>0.025</dd></dl></div><div class='xr-var-data'><pre>array([264.775, 264.825, 264.875, ..., 283.625, 283.675, 283.725],\n",
              "      dtype=float32)</pre></div></li></ul></div></li><li class='xr-section-item'><input id='section-8bd4b67c-3aae-426f-8a8c-bcca476f1c6c' class='xr-section-summary-in' type='checkbox'  checked><label for='section-8bd4b67c-3aae-426f-8a8c-bcca476f1c6c' class='xr-section-summary' >Data variables: <span>(1)</span></label><div class='xr-section-inline-details'></div><div class='xr-section-details'><ul class='xr-var-list'><li class='xr-var-item'><div class='xr-var-name'><span>analysed_sst</span></div><div class='xr-var-dims'>(time, latitude, longitude)</div><div class='xr-var-dtype'>float64</div><div class='xr-var-preview xr-preview'>...</div><input id='attrs-eb3d8bc6-955a-49a2-ab53-464618e76f27' class='xr-var-attrs-in' type='checkbox' ><label for='attrs-eb3d8bc6-955a-49a2-ab53-464618e76f27' title='Show/Hide attributes'><svg class='icon xr-icon-file-text2'><use xlink:href='#icon-file-text2'></use></svg></label><input id='data-f8ce43b6-9d97-48e6-9534-0fc44ccd0e11' class='xr-var-data-in' type='checkbox'><label for='data-f8ce43b6-9d97-48e6-9534-0fc44ccd0e11' title='Show/Hide data repr'><svg class='icon xr-icon-database'><use xlink:href='#icon-database'></use></svg></label><div class='xr-var-attrs'><dl class='xr-attrs'><dt><span>_FillValue :</span></dt><dd>nan</dd><dt><span>colorBarMaximum :</span></dt><dd>32.0</dd><dt><span>colorBarMinimum :</span></dt><dd>0.0</dd><dt><span>coverage_content_type :</span></dt><dd>physicalMeasurement</dd><dt><span>grid_mapping :</span></dt><dd>crs</dd><dt><span>ioos_category :</span></dt><dd>Temperature</dd><dt><span>long_name :</span></dt><dd>analysed sea surface temperature</dd><dt><span>standard_name :</span></dt><dd>sea_surface_temperature</dd><dt><span>units :</span></dt><dd>degree_C</dd><dt><span>valid_max :</span></dt><dd>5000.0</dd><dt><span>valid_min :</span></dt><dd>-200.0</dd></dl></div><div class='xr-var-data'><pre>[1231200 values with dtype=float64]</pre></div></li></ul></div></li><li class='xr-section-item'><input id='section-8e48bab8-804c-4630-9acb-71bbc93727b7' class='xr-section-summary-in' type='checkbox'  ><label for='section-8e48bab8-804c-4630-9acb-71bbc93727b7' class='xr-section-summary' >Attributes: <span>(64)</span></label><div class='xr-section-inline-details'></div><div class='xr-section-details'><dl class='xr-attrs'><dt><span>acknowledgement :</span></dt><dd>NOAA Coral Reef Watch Program</dd><dt><span>cdm_data_type :</span></dt><dd>Grid</dd><dt><span>comment :</span></dt><dd>This product is designed to improve on and replace the use of AVHRR Pathfinder SST for use within the Coral Reef Watch Program.</dd><dt><span>contributor_name :</span></dt><dd>NOAA Coral Reef Watch program</dd><dt><span>contributor_role :</span></dt><dd>Collecting source data and deriving products; performing quality control of products; disseminating, storing, and submitting data to archive</dd><dt><span>Conventions :</span></dt><dd>CF-1.6, ACDD-1.3, COARDS</dd><dt><span>creator_email :</span></dt><dd>coralreefwatch@noaa.gov</dd><dt><span>creator_institution :</span></dt><dd>NOAA/NESDIS/STAR Coral Reef Watch program</dd><dt><span>creator_name :</span></dt><dd>NOAA Coral Reef Watch program</dd><dt><span>creator_type :</span></dt><dd>group</dd><dt><span>creator_url :</span></dt><dd>https://coralreefwatch.noaa.gov/</dd><dt><span>data_source :</span></dt><dd>NOAA Daily Global 5km Geo-Polar Blended Night-only Sea Surface Temperature Analysis from the date specified in the global attribute time_coverage_start. Note, if the text of this global attribute begins with &quot;Due to ...&quot;, one of the following situations occurred: (1) the source data file for the CoralTemp of data file for the CoralTemp of the day was missing; (2) the sea_ice_fraction data array in the source data was missing, (3) some alternation was made on the source data to derive the CoralTemp data of the day.</dd><dt><span>date_created :</span></dt><dd>2018-01-01T00:00:00Z</dd><dt><span>date_issued :</span></dt><dd>2018-12-02T15:20:07Z</dd><dt><span>date_metadata_modified :</span></dt><dd>2018-09-01T00:00:00Z</dd><dt><span>date_modified :</span></dt><dd>2018-01-01T00:00:00Z</dd><dt><span>Easternmost_Easting :</span></dt><dd>283.725</dd><dt><span>geospatial_bounds :</span></dt><dd>&quot;POLYGON((-90.0 360.0, 90.0 360.0, 90.0 0.0, -90.0 0.0, -90.0 360.0))&quot;</dd><dt><span>geospatial_bounds_crs :</span></dt><dd>EPSG:32663</dd><dt><span>geospatial_lat_max :</span></dt><dd>64.625</dd><dt><span>geospatial_lat_min :</span></dt><dd>51.175</dd><dt><span>geospatial_lat_resolution :</span></dt><dd>0.049999999999999996</dd><dt><span>geospatial_lat_units :</span></dt><dd>degrees_north</dd><dt><span>geospatial_lon_max :</span></dt><dd>283.725</dd><dt><span>geospatial_lon_min :</span></dt><dd>264.775</dd><dt><span>geospatial_lon_resolution :</span></dt><dd>0.05000000000000001</dd><dt><span>geospatial_lon_units :</span></dt><dd>degrees_east</dd><dt><span>history :</span></dt><dd>Mon Aug  3 06:00:38 2020: ncatted -O -a geospatial_bounds,global,o,c,&quot;POLYGON((-90.0 360.0, 90.0 360.0, 90.0 0.0, -90.0 0.0, -90.0 360.0))&quot; coraltemp_v1.0_20200801-0-360.nc\n",
              "Mon Aug  3 06:00:38 2020: ncatted -O -a geospatial_lon_max,global,o,f,359.975 coraltemp_v1.0_20200801-0-360.nc\n",
              "Mon Aug  3 06:00:38 2020: ncatted -O -a geospatial_lon_min,global,o,f,0.025 coraltemp_v1.0_20200801-0-360.nc\n",
              "Mon Aug  3 06:00:38 2020: ncatted -O -a valid_max,lon,o,f,359.975 coraltemp_v1.0_20200801-0-360.nc\n",
              "Mon Aug  3 06:00:38 2020: ncatted -O -a valid_min,lon,o,f,0.025 coraltemp_v1.0_20200801-0-360.nc\n",
              "Mon Aug  3 06:00:36 2020: ncap2 -O -s where(lon&lt;0) lon=lon+360 coraltemp_v1.0_20200801-0-360.nc coraltemp_v1.0_20200801-0-360.nc\n",
              "Mon Aug  3 06:00:34 2020: ncks -O --msa_usr_rdr -d lon,0.0,180.0 -d lon,-180.0,0.0 coraltemp_v1.0_20200801.nc coraltemp_v1.0_20200801-0-360.nc\n",
              "This is the first version of CoralTemp\n",
              "2022-10-25T05:31:42Z (local files)\n",
              "2022-10-25T05:31:42Z https://oceanwatch.pifsc.noaa.gov/erddap/griddap/CRW_sst_v1_0_monthly.nc?analysed_sst%5B(2019-01-01T12:00:00Z):1:(2019-12-01T12:00:00Z)%5D%5B(51.190361):1:(64.623877)%5D%5B(264.76609):1:(283.70691)%5D</dd><dt><span>id :</span></dt><dd>CoralTemp-v1.0</dd><dt><span>infoUrl :</span></dt><dd>https://coralreefwatch.noaa.gov/satellite/bleaching5km</dd><dt><span>institution :</span></dt><dd>NOAA/NESDIS/STAR Coral Reef Watch program</dd><dt><span>instrument :</span></dt><dd>ATSR-1, ATSR-2, AATSR, AVHRR, AVHRR-2, AVHRR-3, VIIRS, GOES Imager, MTSAT Imager, MTSAT 2 Imager, AHI, ABI, SEVIRI, buoy - moored buoy, buoy - drifting buoy, buoy - TAO buoy, surface seawater intake</dd><dt><span>instrument_vocabulary :</span></dt><dd>NOAA NODC Ocean Archive System Instruments</dd><dt><span>keywords :</span></dt><dd>5km, analysed, analysed_sst, analysis, blended, coral, coraltemp, data, earth, Earth Science &gt; Oceans &gt; Ocean Temperature &gt; Sea Surface Temperature, Earth Science &gt; Oceans &gt; Ocean Temperature &gt; Water Temperature, Earth Science &gt; Spectral/Engineering &gt; Infrared Wavelengths &gt; Thermal Infrared, engineering, environmental, free, gap, gap-free, global, ice, information, infrared, national, near, nesdis, noaa, nrt, ocean, oceans, operational, ostia, over, program, real, reef, satellite, science, sea, sea_surface_temperature, seawater, service, spectral, spectral/engineering, sst, star, surface, temperature, thermal, time, watch, water, wavelengths</dd><dt><span>keywords_vocabulary :</span></dt><dd>GCMD Science Keywords</dd><dt><span>license :</span></dt><dd>OSTIA Usage Statement (1985-2002): IMPORTANT usage statement. Unless otherwise agreed in writing, these data may be used for pure academic research only, with no commercial or other application and all usage must meet the Met Office Standard Terms and Conditions, which may be found here: https://www.metoffice.gov.uk/corporate/legal/tandc.html. The data may be used for a maximum period of 5 years. Reproduction of the data is permitted provided the following copyright statement is included: (C) Crown Copyright 2010, published by the Met Office. You must submit a completed reproduction license application form (here https://www.metoffice.gov.uk/corporate/legal/repro_licence.html) before using the data. This only needs to be completed once for each user. WARNING Some applications are unable to properly handle signed byte values. If values are encountered &gt; 127, please subtract 256 from this reported value. GHRSST statement (2002-present): GHRSST protocol describes data use as free and open. Coral Reef Watch program statement: The data produced by Coral Reef Watch are available for use without restriction, but Coral Reef Watch relies on the ethics and integrity of the user to ensure that the source of the data and products is appropriately cited and credited. When using these data and products, credit and courtesy should be given to NOAA Coral Reef Watch. Please include the appropriate DOI associated with this dataset in the citation. For more information, visit the NOAA Coral Reef Watch website: https://coralreefwatch.noaa.gov. Recommendations for citing and providing credit are provided at https://coralreefwatch.noaa.gov/satellite/docs/recommendations_crw_citation.php. Users are referred to the footer section of Coral Reef Watch&#x27;s website (https://coralreefwatch.noaa.gov/index.php) for disclaimers, policies, notices pertaining to the use of the data.</dd><dt><span>metadata_link :</span></dt><dd>https://coralreefwatch.noaa.gov/satellite/bleaching5km</dd><dt><span>naming_authority :</span></dt><dd>gov.noaa.coralreefwatch</dd><dt><span>NCO :</span></dt><dd>4.3.7</dd><dt><span>nco_openmp_thread_number :</span></dt><dd>1</dd><dt><span>Northernmost_Northing :</span></dt><dd>64.625</dd><dt><span>platform :</span></dt><dd>Ships, drifting buoys, moored buoys, TOGA-TAO buoy arrays, GOES-8 satellite, GOES-9 satellite, GOES-10 satellite, GOES-11 satellite, GOES-12 satellite, GOES-13 satellite, GOES-14 satellite, GOES-15 satellite, GOES-16 satellite, MTSAT-1R satellite, MTSAT-2 satellite, Himawari-8 satellite, Meteosat-8 satellite, Meteosat-9 satellite, Meteoset-10 satellite, Meteosat-11 satellite, Suomi NPP, MetOp-A satellite, MetOp-B satellite, NOAA-9 satellite, NOAA-11 satellite, NOAA-12 satellite, NOAA-14 satellite, NOAA-15 satellite, NOAA-16 satellite, NOAA-17 satellite, NOAA-18 satellite, NOAA-19 satellite.</dd><dt><span>platform_vocabulary :</span></dt><dd>NOAA NODC Ocean Archive System Platforms</dd><dt><span>processing_level :</span></dt><dd>L4</dd><dt><span>product_version :</span></dt><dd>1.0</dd><dt><span>program :</span></dt><dd>NOAA Coral Reef Watch program</dd><dt><span>project :</span></dt><dd>NOAA Coral Reef Watch program</dd><dt><span>publisher_email :</span></dt><dd>coralreefwatch@noaa.gov</dd><dt><span>publisher_institution :</span></dt><dd>NOAA/NESDIS/STAR Coral Reef Watch program</dd><dt><span>publisher_name :</span></dt><dd>NOAA Coral Reef Watch program</dd><dt><span>publisher_type :</span></dt><dd>group</dd><dt><span>publisher_url :</span></dt><dd>https://coralreefwatch.noaa.gov/</dd><dt><span>references :</span></dt><dd>Donlon, et al., 2011. The Operational Sea Surface Temperature and Sea Ice analysis (OSTIA). Maturi, et al., 2017. A new high-resolution sea surface temperature analysis. https://coralreefwatch.noaa.gov/satellite/coraltemp.php</dd><dt><span>source :</span></dt><dd>OSTIA Sea Surface Temperature Reanalysis (night-only), NOAA Geo-Polar Blended Night-only Sea Surface Temperature Reanalysis, NOAA Geo-Polar Blended Night-only Sea Surface Temperature (near real-time)</dd><dt><span>sourceUrl :</span></dt><dd>(local files)</dd><dt><span>Southernmost_Northing :</span></dt><dd>51.175</dd><dt><span>standard_name_vocabulary :</span></dt><dd>CF Standard Name Table v27</dd><dt><span>summary :</span></dt><dd>CoralTemp 5km gap-free analysed blended sea surface temperature over the global ocean. CoralTemp is derived from three different but related 5km daily gap-free SST data sets and provides an internally consistent SST product that stretches from 1985 to present: Operational Sea Surface Temperature and Sea Ice Analysis (OSTIA) Sea Surface Temperature Reanalysis (1985-2002), Geo-Polar Blended Night-only Sea Surface Temperature Reanalysis (2002-2016), Geo-Polar Blended Night-only Sea Surface Temperature Near Real-Time (2017 to present). Monthly composites were generated from daily files by OceanWatch Central Pacific</dd><dt><span>time_coverage_duration :</span></dt><dd>P1D</dd><dt><span>time_coverage_end :</span></dt><dd>2019-12-01T12:00:00Z</dd><dt><span>time_coverage_resolution :</span></dt><dd>P1D</dd><dt><span>time_coverage_start :</span></dt><dd>2019-01-01T12:00:00Z</dd><dt><span>title :</span></dt><dd>ZZZ - DEPRECATED - Sea Surface Temperature, Coral Reef Watch, CoralTemp - Monthly, 1985-present</dd><dt><span>Westernmost_Easting :</span></dt><dd>264.775</dd></dl></div></li></ul></div></div>"
            ],
            "text/plain": [
              "<xarray.Dataset>\n",
              "Dimensions:       (time: 12, latitude: 270, longitude: 380)\n",
              "Coordinates:\n",
              "  * time          (time) float64 1.546e+09 1.549e+09 ... 1.573e+09 1.575e+09\n",
              "  * latitude      (latitude) float32 51.17 51.22 51.28 ... 64.53 64.57 64.62\n",
              "  * longitude     (longitude) float32 264.8 264.8 264.9 ... 283.6 283.7 283.7\n",
              "Data variables:\n",
              "    analysed_sst  (time, latitude, longitude) float64 ...\n",
              "Attributes: (12/64)\n",
              "    acknowledgement:            NOAA Coral Reef Watch Program\n",
              "    cdm_data_type:              Grid\n",
              "    comment:                    This product is designed to improve on and re...\n",
              "    contributor_name:           NOAA Coral Reef Watch program\n",
              "    contributor_role:           Collecting source data and deriving products;...\n",
              "    Conventions:                CF-1.6, ACDD-1.3, COARDS\n",
              "    ...                         ...\n",
              "    time_coverage_duration:     P1D\n",
              "    time_coverage_end:          2019-12-01T12:00:00Z\n",
              "    time_coverage_resolution:   P1D\n",
              "    time_coverage_start:        2019-01-01T12:00:00Z\n",
              "    title:                      ZZZ - DEPRECATED - Sea Surface Temperature, C...\n",
              "    Westernmost_Easting:        264.775"
            ]
          },
          "execution_count": 26,
          "metadata": {},
          "output_type": "execute_result"
        }
      ],
      "source": [
        "data = xr.open_dataset('sst.nc',decode_cf=False) # open the .nc file\n",
        "\n",
        "# display data details along with metadata\n",
        "data"
      ]
    },
    {
      "cell_type": "markdown",
      "metadata": {
        "id": "eTXJVV_c0iRh"
      },
      "source": [
        "**Note:**\n",
        "Xarray produces a much more readable output. Click on each variable drop-down and read the details of the varible."
      ]
    },
    {
      "cell_type": "markdown",
      "metadata": {
        "id": "W64UGSa30iRh"
      },
      "source": [
        "---"
      ]
    },
    {
      "cell_type": "code",
      "execution_count": null,
      "metadata": {
        "id": "YuCL-RVz0iRh",
        "outputId": "d911b3db-a29f-4e09-dfcc-fcee4b5e7eff"
      },
      "outputs": [
        {
          "name": "stdout",
          "output_type": "stream",
          "text": [
            "Coordinates:\n",
            "  * time       (time) float64 1.546e+09 1.549e+09 ... 1.573e+09 1.575e+09\n",
            "  * latitude   (latitude) float32 51.17 51.22 51.28 51.33 ... 64.53 64.57 64.62\n",
            "  * longitude  (longitude) float32 264.8 264.8 264.9 264.9 ... 283.6 283.7 283.7\n",
            "Data variables:\n",
            "    analysed_sst  (time, latitude, longitude) float64 ...\n"
          ]
        }
      ],
      "source": [
        "#examine co-ordinates and variables\n",
        "\n",
        "print(data.coords)\n",
        "print(data.data_vars)"
      ]
    },
    {
      "cell_type": "markdown",
      "metadata": {
        "id": "PTZh_Wsd0iRi"
      },
      "source": [
        "---"
      ]
    },
    {
      "cell_type": "markdown",
      "metadata": {
        "id": "lFkGAAuK0iRi"
      },
      "source": [
        "Let's look at the structure/dimension of analysed_sst:"
      ]
    },
    {
      "cell_type": "code",
      "execution_count": null,
      "metadata": {
        "id": "198SUogn0iRi",
        "outputId": "1c7d2f93-8254-4781-ae2d-d7513e36779f"
      },
      "outputs": [
        {
          "data": {
            "text/plain": [
              "(12, 270, 380)"
            ]
          },
          "execution_count": 29,
          "metadata": {},
          "output_type": "execute_result"
        }
      ],
      "source": [
        "data.analysed_sst.shape"
      ]
    },
    {
      "cell_type": "markdown",
      "metadata": {
        "id": "PZc9F5Dt0iRi"
      },
      "source": [
        "From the result we can see that the dataset is a 3-D array with 270 rows corresponding to latitudes and 380 columns corresponding to longitudes, for 12 time step.\n",
        "\n"
      ]
    },
    {
      "cell_type": "markdown",
      "metadata": {
        "id": "0K044I4G0iRj"
      },
      "source": [
        "Let's get the dates for 12 time step:"
      ]
    },
    {
      "cell_type": "code",
      "execution_count": null,
      "metadata": {
        "id": "Ul8WVs2h0iRj",
        "outputId": "7556c1ca-72f3-4042-e172-2f3be58e6700"
      },
      "outputs": [
        {
          "data": {
            "text/html": [
              "<div><svg style=\"position: absolute; width: 0; height: 0; overflow: hidden\">\n",
              "<defs>\n",
              "<symbol id=\"icon-database\" viewBox=\"0 0 32 32\">\n",
              "<path d=\"M16 0c-8.837 0-16 2.239-16 5v4c0 2.761 7.163 5 16 5s16-2.239 16-5v-4c0-2.761-7.163-5-16-5z\"></path>\n",
              "<path d=\"M16 17c-8.837 0-16-2.239-16-5v6c0 2.761 7.163 5 16 5s16-2.239 16-5v-6c0 2.761-7.163 5-16 5z\"></path>\n",
              "<path d=\"M16 26c-8.837 0-16-2.239-16-5v6c0 2.761 7.163 5 16 5s16-2.239 16-5v-6c0 2.761-7.163 5-16 5z\"></path>\n",
              "</symbol>\n",
              "<symbol id=\"icon-file-text2\" viewBox=\"0 0 32 32\">\n",
              "<path d=\"M28.681 7.159c-0.694-0.947-1.662-2.053-2.724-3.116s-2.169-2.030-3.116-2.724c-1.612-1.182-2.393-1.319-2.841-1.319h-15.5c-1.378 0-2.5 1.121-2.5 2.5v27c0 1.378 1.122 2.5 2.5 2.5h23c1.378 0 2.5-1.122 2.5-2.5v-19.5c0-0.448-0.137-1.23-1.319-2.841zM24.543 5.457c0.959 0.959 1.712 1.825 2.268 2.543h-4.811v-4.811c0.718 0.556 1.584 1.309 2.543 2.268zM28 29.5c0 0.271-0.229 0.5-0.5 0.5h-23c-0.271 0-0.5-0.229-0.5-0.5v-27c0-0.271 0.229-0.5 0.5-0.5 0 0 15.499-0 15.5 0v7c0 0.552 0.448 1 1 1h7v19.5z\"></path>\n",
              "<path d=\"M23 26h-14c-0.552 0-1-0.448-1-1s0.448-1 1-1h14c0.552 0 1 0.448 1 1s-0.448 1-1 1z\"></path>\n",
              "<path d=\"M23 22h-14c-0.552 0-1-0.448-1-1s0.448-1 1-1h14c0.552 0 1 0.448 1 1s-0.448 1-1 1z\"></path>\n",
              "<path d=\"M23 18h-14c-0.552 0-1-0.448-1-1s0.448-1 1-1h14c0.552 0 1 0.448 1 1s-0.448 1-1 1z\"></path>\n",
              "</symbol>\n",
              "</defs>\n",
              "</svg>\n",
              "<style>/* CSS stylesheet for displaying xarray objects in jupyterlab.\n",
              " *\n",
              " */\n",
              "\n",
              ":root {\n",
              "  --xr-font-color0: var(--jp-content-font-color0, rgba(0, 0, 0, 1));\n",
              "  --xr-font-color2: var(--jp-content-font-color2, rgba(0, 0, 0, 0.54));\n",
              "  --xr-font-color3: var(--jp-content-font-color3, rgba(0, 0, 0, 0.38));\n",
              "  --xr-border-color: var(--jp-border-color2, #e0e0e0);\n",
              "  --xr-disabled-color: var(--jp-layout-color3, #bdbdbd);\n",
              "  --xr-background-color: var(--jp-layout-color0, white);\n",
              "  --xr-background-color-row-even: var(--jp-layout-color1, white);\n",
              "  --xr-background-color-row-odd: var(--jp-layout-color2, #eeeeee);\n",
              "}\n",
              "\n",
              "html[theme=dark],\n",
              "body.vscode-dark {\n",
              "  --xr-font-color0: rgba(255, 255, 255, 1);\n",
              "  --xr-font-color2: rgba(255, 255, 255, 0.54);\n",
              "  --xr-font-color3: rgba(255, 255, 255, 0.38);\n",
              "  --xr-border-color: #1F1F1F;\n",
              "  --xr-disabled-color: #515151;\n",
              "  --xr-background-color: #111111;\n",
              "  --xr-background-color-row-even: #111111;\n",
              "  --xr-background-color-row-odd: #313131;\n",
              "}\n",
              "\n",
              ".xr-wrap {\n",
              "  display: block;\n",
              "  min-width: 300px;\n",
              "  max-width: 700px;\n",
              "}\n",
              "\n",
              ".xr-text-repr-fallback {\n",
              "  /* fallback to plain text repr when CSS is not injected (untrusted notebook) */\n",
              "  display: none;\n",
              "}\n",
              "\n",
              ".xr-header {\n",
              "  padding-top: 6px;\n",
              "  padding-bottom: 6px;\n",
              "  margin-bottom: 4px;\n",
              "  border-bottom: solid 1px var(--xr-border-color);\n",
              "}\n",
              "\n",
              ".xr-header > div,\n",
              ".xr-header > ul {\n",
              "  display: inline;\n",
              "  margin-top: 0;\n",
              "  margin-bottom: 0;\n",
              "}\n",
              "\n",
              ".xr-obj-type,\n",
              ".xr-array-name {\n",
              "  margin-left: 2px;\n",
              "  margin-right: 10px;\n",
              "}\n",
              "\n",
              ".xr-obj-type {\n",
              "  color: var(--xr-font-color2);\n",
              "}\n",
              "\n",
              ".xr-sections {\n",
              "  padding-left: 0 !important;\n",
              "  display: grid;\n",
              "  grid-template-columns: 150px auto auto 1fr 20px 20px;\n",
              "}\n",
              "\n",
              ".xr-section-item {\n",
              "  display: contents;\n",
              "}\n",
              "\n",
              ".xr-section-item input {\n",
              "  display: none;\n",
              "}\n",
              "\n",
              ".xr-section-item input + label {\n",
              "  color: var(--xr-disabled-color);\n",
              "}\n",
              "\n",
              ".xr-section-item input:enabled + label {\n",
              "  cursor: pointer;\n",
              "  color: var(--xr-font-color2);\n",
              "}\n",
              "\n",
              ".xr-section-item input:enabled + label:hover {\n",
              "  color: var(--xr-font-color0);\n",
              "}\n",
              "\n",
              ".xr-section-summary {\n",
              "  grid-column: 1;\n",
              "  color: var(--xr-font-color2);\n",
              "  font-weight: 500;\n",
              "}\n",
              "\n",
              ".xr-section-summary > span {\n",
              "  display: inline-block;\n",
              "  padding-left: 0.5em;\n",
              "}\n",
              "\n",
              ".xr-section-summary-in:disabled + label {\n",
              "  color: var(--xr-font-color2);\n",
              "}\n",
              "\n",
              ".xr-section-summary-in + label:before {\n",
              "  display: inline-block;\n",
              "  content: '►';\n",
              "  font-size: 11px;\n",
              "  width: 15px;\n",
              "  text-align: center;\n",
              "}\n",
              "\n",
              ".xr-section-summary-in:disabled + label:before {\n",
              "  color: var(--xr-disabled-color);\n",
              "}\n",
              "\n",
              ".xr-section-summary-in:checked + label:before {\n",
              "  content: '▼';\n",
              "}\n",
              "\n",
              ".xr-section-summary-in:checked + label > span {\n",
              "  display: none;\n",
              "}\n",
              "\n",
              ".xr-section-summary,\n",
              ".xr-section-inline-details {\n",
              "  padding-top: 4px;\n",
              "  padding-bottom: 4px;\n",
              "}\n",
              "\n",
              ".xr-section-inline-details {\n",
              "  grid-column: 2 / -1;\n",
              "}\n",
              "\n",
              ".xr-section-details {\n",
              "  display: none;\n",
              "  grid-column: 1 / -1;\n",
              "  margin-bottom: 5px;\n",
              "}\n",
              "\n",
              ".xr-section-summary-in:checked ~ .xr-section-details {\n",
              "  display: contents;\n",
              "}\n",
              "\n",
              ".xr-array-wrap {\n",
              "  grid-column: 1 / -1;\n",
              "  display: grid;\n",
              "  grid-template-columns: 20px auto;\n",
              "}\n",
              "\n",
              ".xr-array-wrap > label {\n",
              "  grid-column: 1;\n",
              "  vertical-align: top;\n",
              "}\n",
              "\n",
              ".xr-preview {\n",
              "  color: var(--xr-font-color3);\n",
              "}\n",
              "\n",
              ".xr-array-preview,\n",
              ".xr-array-data {\n",
              "  padding: 0 5px !important;\n",
              "  grid-column: 2;\n",
              "}\n",
              "\n",
              ".xr-array-data,\n",
              ".xr-array-in:checked ~ .xr-array-preview {\n",
              "  display: none;\n",
              "}\n",
              "\n",
              ".xr-array-in:checked ~ .xr-array-data,\n",
              ".xr-array-preview {\n",
              "  display: inline-block;\n",
              "}\n",
              "\n",
              ".xr-dim-list {\n",
              "  display: inline-block !important;\n",
              "  list-style: none;\n",
              "  padding: 0 !important;\n",
              "  margin: 0;\n",
              "}\n",
              "\n",
              ".xr-dim-list li {\n",
              "  display: inline-block;\n",
              "  padding: 0;\n",
              "  margin: 0;\n",
              "}\n",
              "\n",
              ".xr-dim-list:before {\n",
              "  content: '(';\n",
              "}\n",
              "\n",
              ".xr-dim-list:after {\n",
              "  content: ')';\n",
              "}\n",
              "\n",
              ".xr-dim-list li:not(:last-child):after {\n",
              "  content: ',';\n",
              "  padding-right: 5px;\n",
              "}\n",
              "\n",
              ".xr-has-index {\n",
              "  font-weight: bold;\n",
              "}\n",
              "\n",
              ".xr-var-list,\n",
              ".xr-var-item {\n",
              "  display: contents;\n",
              "}\n",
              "\n",
              ".xr-var-item > div,\n",
              ".xr-var-item label,\n",
              ".xr-var-item > .xr-var-name span {\n",
              "  background-color: var(--xr-background-color-row-even);\n",
              "  margin-bottom: 0;\n",
              "}\n",
              "\n",
              ".xr-var-item > .xr-var-name:hover span {\n",
              "  padding-right: 5px;\n",
              "}\n",
              "\n",
              ".xr-var-list > li:nth-child(odd) > div,\n",
              ".xr-var-list > li:nth-child(odd) > label,\n",
              ".xr-var-list > li:nth-child(odd) > .xr-var-name span {\n",
              "  background-color: var(--xr-background-color-row-odd);\n",
              "}\n",
              "\n",
              ".xr-var-name {\n",
              "  grid-column: 1;\n",
              "}\n",
              "\n",
              ".xr-var-dims {\n",
              "  grid-column: 2;\n",
              "}\n",
              "\n",
              ".xr-var-dtype {\n",
              "  grid-column: 3;\n",
              "  text-align: right;\n",
              "  color: var(--xr-font-color2);\n",
              "}\n",
              "\n",
              ".xr-var-preview {\n",
              "  grid-column: 4;\n",
              "}\n",
              "\n",
              ".xr-var-name,\n",
              ".xr-var-dims,\n",
              ".xr-var-dtype,\n",
              ".xr-preview,\n",
              ".xr-attrs dt {\n",
              "  white-space: nowrap;\n",
              "  overflow: hidden;\n",
              "  text-overflow: ellipsis;\n",
              "  padding-right: 10px;\n",
              "}\n",
              "\n",
              ".xr-var-name:hover,\n",
              ".xr-var-dims:hover,\n",
              ".xr-var-dtype:hover,\n",
              ".xr-attrs dt:hover {\n",
              "  overflow: visible;\n",
              "  width: auto;\n",
              "  z-index: 1;\n",
              "}\n",
              "\n",
              ".xr-var-attrs,\n",
              ".xr-var-data {\n",
              "  display: none;\n",
              "  background-color: var(--xr-background-color) !important;\n",
              "  padding-bottom: 5px !important;\n",
              "}\n",
              "\n",
              ".xr-var-attrs-in:checked ~ .xr-var-attrs,\n",
              ".xr-var-data-in:checked ~ .xr-var-data {\n",
              "  display: block;\n",
              "}\n",
              "\n",
              ".xr-var-data > table {\n",
              "  float: right;\n",
              "}\n",
              "\n",
              ".xr-var-name span,\n",
              ".xr-var-data,\n",
              ".xr-attrs {\n",
              "  padding-left: 25px !important;\n",
              "}\n",
              "\n",
              ".xr-attrs,\n",
              ".xr-var-attrs,\n",
              ".xr-var-data {\n",
              "  grid-column: 1 / -1;\n",
              "}\n",
              "\n",
              "dl.xr-attrs {\n",
              "  padding: 0;\n",
              "  margin: 0;\n",
              "  display: grid;\n",
              "  grid-template-columns: 125px auto;\n",
              "}\n",
              "\n",
              ".xr-attrs dt,\n",
              ".xr-attrs dd {\n",
              "  padding: 0;\n",
              "  margin: 0;\n",
              "  float: left;\n",
              "  padding-right: 10px;\n",
              "  width: auto;\n",
              "}\n",
              "\n",
              ".xr-attrs dt {\n",
              "  font-weight: normal;\n",
              "  grid-column: 1;\n",
              "}\n",
              "\n",
              ".xr-attrs dt:hover span {\n",
              "  display: inline-block;\n",
              "  background: var(--xr-background-color);\n",
              "  padding-right: 10px;\n",
              "}\n",
              "\n",
              ".xr-attrs dd {\n",
              "  grid-column: 2;\n",
              "  white-space: pre-wrap;\n",
              "  word-break: break-all;\n",
              "}\n",
              "\n",
              ".xr-icon-database,\n",
              ".xr-icon-file-text2 {\n",
              "  display: inline-block;\n",
              "  vertical-align: middle;\n",
              "  width: 1em;\n",
              "  height: 1.5em !important;\n",
              "  stroke-width: 0;\n",
              "  stroke: currentColor;\n",
              "  fill: currentColor;\n",
              "}\n",
              "</style><pre class='xr-text-repr-fallback'>&lt;xarray.DataArray &#x27;time&#x27; ()&gt;\n",
              "array(1.546344e+09)\n",
              "Coordinates:\n",
              "    time     float64 1.546e+09\n",
              "Attributes:\n",
              "    _CoordinateAxisType:    Time\n",
              "    actual_range:           [1.5463440e+09 1.5752016e+09]\n",
              "    axis:                   T\n",
              "    coverage_content_type:  coordinate\n",
              "    ioos_category:          Time\n",
              "    long_name:              reference time of the sst field\n",
              "    standard_name:          time\n",
              "    time_origin:            01-JAN-1970 00:00:00\n",
              "    units:                  seconds since 1970-01-01T00:00:00Z</pre><div class='xr-wrap' hidden><div class='xr-header'><div class='xr-obj-type'>xarray.DataArray</div><div class='xr-array-name'>'time'</div></div><ul class='xr-sections'><li class='xr-section-item'><div class='xr-array-wrap'><input id='section-3816aadc-2b41-41e7-8e15-c53af01e9adf' class='xr-array-in' type='checkbox' checked><label for='section-3816aadc-2b41-41e7-8e15-c53af01e9adf' title='Show/hide data repr'><svg class='icon xr-icon-database'><use xlink:href='#icon-database'></use></svg></label><div class='xr-array-preview xr-preview'><span>1.546e+09</span></div><div class='xr-array-data'><pre>array(1.546344e+09)</pre></div></div></li><li class='xr-section-item'><input id='section-860771f8-4096-4597-a744-fe1d39d61166' class='xr-section-summary-in' type='checkbox'  checked><label for='section-860771f8-4096-4597-a744-fe1d39d61166' class='xr-section-summary' >Coordinates: <span>(1)</span></label><div class='xr-section-inline-details'></div><div class='xr-section-details'><ul class='xr-var-list'><li class='xr-var-item'><div class='xr-var-name'><span>time</span></div><div class='xr-var-dims'>()</div><div class='xr-var-dtype'>float64</div><div class='xr-var-preview xr-preview'>1.546e+09</div><input id='attrs-5adc19b4-6fb9-4f34-a388-9f8dbb56beeb' class='xr-var-attrs-in' type='checkbox' ><label for='attrs-5adc19b4-6fb9-4f34-a388-9f8dbb56beeb' title='Show/Hide attributes'><svg class='icon xr-icon-file-text2'><use xlink:href='#icon-file-text2'></use></svg></label><input id='data-d94184f7-2b6e-4861-b22b-477c34e2c375' class='xr-var-data-in' type='checkbox'><label for='data-d94184f7-2b6e-4861-b22b-477c34e2c375' title='Show/Hide data repr'><svg class='icon xr-icon-database'><use xlink:href='#icon-database'></use></svg></label><div class='xr-var-attrs'><dl class='xr-attrs'><dt><span>_CoordinateAxisType :</span></dt><dd>Time</dd><dt><span>actual_range :</span></dt><dd>[1.5463440e+09 1.5752016e+09]</dd><dt><span>axis :</span></dt><dd>T</dd><dt><span>coverage_content_type :</span></dt><dd>coordinate</dd><dt><span>ioos_category :</span></dt><dd>Time</dd><dt><span>long_name :</span></dt><dd>reference time of the sst field</dd><dt><span>standard_name :</span></dt><dd>time</dd><dt><span>time_origin :</span></dt><dd>01-JAN-1970 00:00:00</dd><dt><span>units :</span></dt><dd>seconds since 1970-01-01T00:00:00Z</dd></dl></div><div class='xr-var-data'><pre>array(1.546344e+09)</pre></div></li></ul></div></li><li class='xr-section-item'><input id='section-e4c0cbf5-b566-4577-99f0-194b7ea38f21' class='xr-section-summary-in' type='checkbox'  checked><label for='section-e4c0cbf5-b566-4577-99f0-194b7ea38f21' class='xr-section-summary' >Attributes: <span>(9)</span></label><div class='xr-section-inline-details'></div><div class='xr-section-details'><dl class='xr-attrs'><dt><span>_CoordinateAxisType :</span></dt><dd>Time</dd><dt><span>actual_range :</span></dt><dd>[1.5463440e+09 1.5752016e+09]</dd><dt><span>axis :</span></dt><dd>T</dd><dt><span>coverage_content_type :</span></dt><dd>coordinate</dd><dt><span>ioos_category :</span></dt><dd>Time</dd><dt><span>long_name :</span></dt><dd>reference time of the sst field</dd><dt><span>standard_name :</span></dt><dd>time</dd><dt><span>time_origin :</span></dt><dd>01-JAN-1970 00:00:00</dd><dt><span>units :</span></dt><dd>seconds since 1970-01-01T00:00:00Z</dd></dl></div></li></ul></div></div>"
            ],
            "text/plain": [
              "<xarray.DataArray 'time' ()>\n",
              "array(1.546344e+09)\n",
              "Coordinates:\n",
              "    time     float64 1.546e+09\n",
              "Attributes:\n",
              "    _CoordinateAxisType:    Time\n",
              "    actual_range:           [1.5463440e+09 1.5752016e+09]\n",
              "    axis:                   T\n",
              "    coverage_content_type:  coordinate\n",
              "    ioos_category:          Time\n",
              "    long_name:              reference time of the sst field\n",
              "    standard_name:          time\n",
              "    time_origin:            01-JAN-1970 00:00:00\n",
              "    units:                  seconds since 1970-01-01T00:00:00Z"
            ]
          },
          "execution_count": 30,
          "metadata": {},
          "output_type": "execute_result"
        }
      ],
      "source": [
        "data.time[0]"
      ]
    },
    {
      "cell_type": "code",
      "execution_count": null,
      "metadata": {
        "id": "geHgOt380iRj",
        "outputId": "a32fbe8c-dab0-40f9-f8e8-e40bf56f7263"
      },
      "outputs": [
        {
          "data": {
            "text/plain": [
              "array([real_datetime(2019, 1, 1, 12, 0), real_datetime(2019, 2, 1, 12, 0),\n",
              "       real_datetime(2019, 3, 1, 12, 0), real_datetime(2019, 4, 1, 12, 0),\n",
              "       real_datetime(2019, 5, 1, 12, 0), real_datetime(2019, 6, 1, 12, 0),\n",
              "       real_datetime(2019, 7, 1, 12, 0), real_datetime(2019, 8, 1, 12, 0),\n",
              "       real_datetime(2019, 9, 1, 12, 0),\n",
              "       real_datetime(2019, 10, 1, 12, 0),\n",
              "       real_datetime(2019, 11, 1, 12, 0),\n",
              "       real_datetime(2019, 12, 1, 12, 0)], dtype=object)"
            ]
          },
          "execution_count": 32,
          "metadata": {},
          "output_type": "execute_result"
        }
      ],
      "source": [
        "date=nc.num2date(data.time,data.time.units,only_use_cftime_datetimes=False) # converts numeric data to calender date\n",
        "date"
      ]
    },
    {
      "cell_type": "markdown",
      "metadata": {
        "id": "cj7ktNjx0iRj"
      },
      "source": [
        "---"
      ]
    },
    {
      "cell_type": "markdown",
      "metadata": {
        "id": "5vuzzDAg0iRk"
      },
      "source": [
        "### Working with the extracted data\n"
      ]
    },
    {
      "cell_type": "markdown",
      "metadata": {
        "id": "nL67OsL10iRk"
      },
      "source": [
        "####  Creating a map for one time step"
      ]
    },
    {
      "cell_type": "markdown",
      "metadata": {
        "id": "vv6uCJ1I0iRk"
      },
      "source": [
        "##### Let's create a map of SST for August 2019."
      ]
    },
    {
      "cell_type": "markdown",
      "metadata": {
        "id": "l1h7kIzL0iRk"
      },
      "source": [
        "Import all the needed packages"
      ]
    },
    {
      "cell_type": "code",
      "execution_count": null,
      "metadata": {
        "id": "slcTT1tw0iRk"
      },
      "outputs": [],
      "source": [
        "import numpy as np\n",
        "from matplotlib import pyplot as plt\n",
        "from matplotlib.colors import LinearSegmentedColormap\n",
        "np.warnings.filterwarnings('ignore')"
      ]
    },
    {
      "cell_type": "markdown",
      "metadata": {
        "id": "k4wP5RAX0iRl"
      },
      "source": [
        "<img align=\"left\" width=\"6%\" style=\"padding-right:10px;\" src=\"images/test.png\">\n",
        "\n",
        "Use colorbars, add points to the map over the plotted SST contour map and also create contour lines"
      ]
    },
    {
      "cell_type": "code",
      "execution_count": null,
      "metadata": {
        "id": "tX_H5cNb0iRl"
      },
      "outputs": [],
      "source": []
    },
    {
      "cell_type": "code",
      "execution_count": null,
      "metadata": {
        "colab": {
          "base_uri": "https://localhost:8080/",
          "height": 244
        },
        "id": "k-pBwdaG0iRl",
        "outputId": "5c03fd79-e213-4861-cd80-7c94342ddc65"
      },
      "outputs": [
        {
          "output_type": "error",
          "ename": "NameError",
          "evalue": "ignored",
          "traceback": [
            "\u001b[0;31m---------------------------------------------------------------------------\u001b[0m",
            "\u001b[0;31mNameError\u001b[0m                                 Traceback (most recent call last)",
            "\u001b[0;32m<ipython-input-6-ab4c8b8f28a6>\u001b[0m in \u001b[0;36m<module>\u001b[0;34m\u001b[0m\n\u001b[0;32m----> 1\u001b[0;31m \u001b[0mmn\u001b[0m\u001b[0;34m=\u001b[0m\u001b[0mnp\u001b[0m\u001b[0;34m.\u001b[0m\u001b[0mnanmin\u001b[0m\u001b[0;34m(\u001b[0m\u001b[0mdata\u001b[0m\u001b[0;34m.\u001b[0m\u001b[0manalysed_sst\u001b[0m\u001b[0;34m)\u001b[0m \u001b[0;31m#set some color breaks\u001b[0m\u001b[0;34m\u001b[0m\u001b[0;34m\u001b[0m\u001b[0m\n\u001b[0m\u001b[1;32m      2\u001b[0m \u001b[0mmx\u001b[0m\u001b[0;34m=\u001b[0m\u001b[0mnp\u001b[0m\u001b[0;34m.\u001b[0m\u001b[0mnanmax\u001b[0m\u001b[0;34m(\u001b[0m\u001b[0mdata\u001b[0m\u001b[0;34m.\u001b[0m\u001b[0manalysed_sst\u001b[0m\u001b[0;34m)\u001b[0m\u001b[0;34m\u001b[0m\u001b[0;34m\u001b[0m\u001b[0m\n\u001b[1;32m      3\u001b[0m \u001b[0;34m\u001b[0m\u001b[0m\n\u001b[1;32m      4\u001b[0m \u001b[0mlevs\u001b[0m \u001b[0;34m=\u001b[0m \u001b[0mnp\u001b[0m\u001b[0;34m.\u001b[0m\u001b[0marange\u001b[0m\u001b[0;34m(\u001b[0m\u001b[0mmn\u001b[0m\u001b[0;34m,\u001b[0m \u001b[0mmx\u001b[0m\u001b[0;34m,\u001b[0m \u001b[0;36m0.05\u001b[0m\u001b[0;34m)\u001b[0m\u001b[0;34m\u001b[0m\u001b[0;34m\u001b[0m\u001b[0m\n\u001b[1;32m      5\u001b[0m \u001b[0mjet\u001b[0m\u001b[0;34m=\u001b[0m\u001b[0;34m[\u001b[0m\u001b[0;34m\"blue\"\u001b[0m\u001b[0;34m,\u001b[0m \u001b[0;34m\"#007FFF\"\u001b[0m\u001b[0;34m,\u001b[0m \u001b[0;34m\"cyan\"\u001b[0m\u001b[0;34m,\u001b[0m\u001b[0;34m\"#7FFF7F\"\u001b[0m\u001b[0;34m,\u001b[0m \u001b[0;34m\"yellow\"\u001b[0m\u001b[0;34m,\u001b[0m \u001b[0;34m\"#FF7F00\"\u001b[0m\u001b[0;34m,\u001b[0m \u001b[0;34m\"red\"\u001b[0m\u001b[0;34m,\u001b[0m \u001b[0;34m\"#7F0000\"\u001b[0m\u001b[0;34m]\u001b[0m \u001b[0;31m#define a color palette\u001b[0m\u001b[0;34m\u001b[0m\u001b[0;34m\u001b[0m\u001b[0m\n",
            "\u001b[0;31mNameError\u001b[0m: name 'data' is not defined"
          ]
        }
      ],
      "source": [
        "mn=np.nanmin(data.analysed_sst) #set some color breaks\n",
        "mx=np.nanmax(data.analysed_sst)\n",
        "\n",
        "levs = np.arange(mn, mx, 0.05)\n",
        "jet=[\"blue\", \"#007FFF\", \"cyan\",\"#7FFF7F\", \"yellow\", \"#FF7F00\", \"red\", \"#7F0000\"] #define a color palette\n",
        "cm = LinearSegmentedColormap.from_list('my_jet', jet, N=len(levs)) #set color scale using the jet palette\n",
        "\n",
        "plt.contourf(data.longitude, data.latitude, data.analysed_sst[7,:,:], levs,cmap=cm)\n",
        "#plot the color scale\n",
        "plt.colorbar()\n",
        "# add points to the map\n",
        "plt.scatter(range(270,274),np.repeat(60,4),c='black')\n",
        "# add a contour line\n",
        "plt.contour(data.longitude, data.latitude, data.analysed_sst[7,:,:],linewidths=1)\n",
        "#plot title\n",
        "plt.title(\"Monthly Sea Surface Temperature of Hudson Bay Canada \" + date[7].strftime('%b %Y'))\n",
        "plt.xlabel(\"Longitude\")\n",
        "plt.ylabel(\"Latitude\")\n",
        "plt.show()"
      ]
    },
    {
      "cell_type": "markdown",
      "metadata": {
        "id": "Sr2Y5PI50iRl"
      },
      "source": [
        "---"
      ]
    },
    {
      "cell_type": "markdown",
      "metadata": {
        "id": "TnvqQF5O0iRl"
      },
      "source": [
        "##### Plotting a time series"
      ]
    },
    {
      "cell_type": "markdown",
      "metadata": {
        "id": "jzRml7re0iRm"
      },
      "source": [
        "<img align=\"left\" width=\"6%\" style=\"padding-right:10px;\" src=\"images/test.png\">\n",
        "\n",
        "\n",
        "Compute the monthly mean over the study area and plot them."
      ]
    },
    {
      "cell_type": "code",
      "execution_count": null,
      "metadata": {
        "id": "MXWjK4EQ0iRm"
      },
      "outputs": [],
      "source": []
    },
    {
      "cell_type": "code",
      "execution_count": null,
      "metadata": {
        "id": "jvA8-ye_0iRm"
      },
      "outputs": [],
      "source": [
        "res=np.mean(data.analysed_sst,axis=(1,2)) # calculate the monthly mean SST\n",
        "\n",
        "plt.figure(figsize=(8,4))\n",
        "plt.scatter(date,res) # draw points for each data point\n",
        "plt.ylabel('SST (ºC)')\n",
        "plt.xlabel('Month')"
      ]
    },
    {
      "cell_type": "markdown",
      "metadata": {
        "id": "LtJ9xAYh0iRn"
      },
      "source": [
        "### Creating a map of average SST over a year"
      ]
    },
    {
      "cell_type": "markdown",
      "metadata": {
        "id": "fFhhJWet0iRn"
      },
      "source": [
        "<img align=\"left\" width=\"6%\" style=\"padding-right:10px;\" src=\"images/test.png\">\n",
        "\n",
        "Compute the average 2019 SST for the study area and create a contour map."
      ]
    },
    {
      "cell_type": "code",
      "execution_count": null,
      "metadata": {
        "id": "v-zHNKxz0iRn",
        "outputId": "be054c4b-c2c1-4297-989f-cbbd76c637b5"
      },
      "outputs": [
        {
          "data": {
            "image/png": "[encoded data removed]",
            "text/plain": [
              "<Figure size 640x480 with 2 Axes>"
            ]
          },
          "metadata": {},
          "output_type": "display_data"
        }
      ],
      "source": [
        "mean_sst=np.mean(data.analysed_sst,axis=0) # calculate the yearly mean SST\n",
        "\n",
        "\n",
        "#plot the yearly SST mean\n",
        "plt.contourf(data.longitude, data.latitude, mean_sst, levs,cmap=cm)\n",
        "plt.colorbar()\n",
        "plt.title(\"Mean SST over Hudsn Bay \" + date[0].strftime('%Y-%m')+' - '+date[11].strftime('%Y-%m'))\n",
        "plt.show()"
      ]
    },
    {
      "cell_type": "code",
      "execution_count": null,
      "metadata": {
        "id": "G-uLwCTF0iRn"
      },
      "outputs": [],
      "source": [
        "data.close()"
      ]
    },
    {
      "cell_type": "markdown",
      "metadata": {
        "id": "ePulXqyN0iRn"
      },
      "source": [
        "***"
      ]
    },
    {
      "cell_type": "markdown",
      "metadata": {
        "id": "xOmwEQ7N0iRo"
      },
      "source": [
        "<img align=\"left\" width=\"6%\" style=\"padding-right:10px; padding-top:10px;\" src=\"images/refs.png\">\n",
        "\n",
        "## Useful References"
      ]
    },
    {
      "cell_type": "markdown",
      "metadata": {
        "id": "Jaq3zdLV0iRo"
      },
      "source": [
        "* [The official Python 3.6 documentation](https://docs.python.org/3.6/index.html)\n",
        "* [NetCDF](https://www.unidata.ucar.edu/software/netcdf/)\n",
        "    * [netCDF4 API documentation](http://unidata.github.io/netcdf4-python/)\n",
        "* [(OPeNDAP)](https://www.opendap.org/)\n",
        "    * [What is OPeNDAP?](https://www.earthdata.nasa.gov/engage/open-data-services-and-software/api/opendap)\n",
        "    * [Data Download](http://test.opendap.org/dap/data/nc/sst.mnmean.nc.gz)\n",
        "* [XArray Documentation](https://pypi.org/project/xarray/)\n",
        "* [ERRDAP URL](https://oceanwatch.pifsc.noaa.gov/erddap/griddap/aqua_kd490_1d_2018_0.html)\n"
      ]
    },
    {
      "cell_type": "markdown",
      "metadata": {
        "id": "3qH_wCpu0iRo"
      },
      "source": [
        "<!--NAVIGATION-->\n",
        " [Contents](index.ipynb)"
      ]
    },
    {
      "cell_type": "code",
      "execution_count": null,
      "metadata": {
        "id": "1pFrq8zu0iRo"
      },
      "outputs": [],
      "source": []
    }
  ],
  "metadata": {
    "kernelspec": {
      "display_name": "Python 3 (ipykernel)",
      "language": "python",
      "name": "python3"
    },
    "language_info": {
      "codemirror_mode": {
        "name": "ipython",
        "version": 3
      },
      "file_extension": ".py",
      "mimetype": "text/x-python",
      "name": "python",
      "nbconvert_exporter": "python",
      "pygments_lexer": "ipython3",
      "version": "3.9.13"
    },
    "colab": {
      "provenance": [],
      "include_colab_link": true
    }
  },
  "nbformat": 4,
  "nbformat_minor": 0
}